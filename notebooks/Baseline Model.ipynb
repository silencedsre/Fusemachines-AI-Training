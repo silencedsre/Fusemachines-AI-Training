{
 "cells": [
  {
   "cell_type": "code",
   "execution_count": 1,
   "metadata": {},
   "outputs": [],
   "source": [
    "import pandas as pd"
   ]
  },
  {
   "cell_type": "code",
   "execution_count": 2,
   "metadata": {},
   "outputs": [],
   "source": [
    "data_path = '../data/ISEAR.csv'"
   ]
  },
  {
   "cell_type": "code",
   "execution_count": 3,
   "metadata": {},
   "outputs": [
    {
     "data": {
      "text/html": [
       "<div>\n",
       "<style scoped>\n",
       "    .dataframe tbody tr th:only-of-type {\n",
       "        vertical-align: middle;\n",
       "    }\n",
       "\n",
       "    .dataframe tbody tr th {\n",
       "        vertical-align: top;\n",
       "    }\n",
       "\n",
       "    .dataframe thead th {\n",
       "        text-align: right;\n",
       "    }\n",
       "</style>\n",
       "<table border=\"1\" class=\"dataframe\">\n",
       "  <thead>\n",
       "    <tr style=\"text-align: right;\">\n",
       "      <th></th>\n",
       "      <th>0</th>\n",
       "      <th>1</th>\n",
       "      <th>2</th>\n",
       "    </tr>\n",
       "  </thead>\n",
       "  <tbody>\n",
       "    <tr>\n",
       "      <th>0</th>\n",
       "      <td>0</td>\n",
       "      <td>joy</td>\n",
       "      <td>On days when I feel close to my partner and ot...</td>\n",
       "    </tr>\n",
       "    <tr>\n",
       "      <th>1</th>\n",
       "      <td>1</td>\n",
       "      <td>fear</td>\n",
       "      <td>Every time I imagine that someone I love or I ...</td>\n",
       "    </tr>\n",
       "    <tr>\n",
       "      <th>2</th>\n",
       "      <td>2</td>\n",
       "      <td>anger</td>\n",
       "      <td>When I had been obviously unjustly treated and...</td>\n",
       "    </tr>\n",
       "    <tr>\n",
       "      <th>3</th>\n",
       "      <td>3</td>\n",
       "      <td>sadness</td>\n",
       "      <td>When I think about the short time that we live...</td>\n",
       "    </tr>\n",
       "    <tr>\n",
       "      <th>4</th>\n",
       "      <td>4</td>\n",
       "      <td>disgust</td>\n",
       "      <td>At a gathering I found myself involuntarily si...</td>\n",
       "    </tr>\n",
       "  </tbody>\n",
       "</table>\n",
       "</div>"
      ],
      "text/plain": [
       "   0        1                                                  2\n",
       "0  0      joy  On days when I feel close to my partner and ot...\n",
       "1  1     fear  Every time I imagine that someone I love or I ...\n",
       "2  2    anger  When I had been obviously unjustly treated and...\n",
       "3  3  sadness  When I think about the short time that we live...\n",
       "4  4  disgust  At a gathering I found myself involuntarily si..."
      ]
     },
     "execution_count": 3,
     "metadata": {},
     "output_type": "execute_result"
    }
   ],
   "source": [
    "df = pd.read_csv(data_path, header=None)\n",
    "df.head()"
   ]
  },
  {
   "cell_type": "code",
   "execution_count": 4,
   "metadata": {},
   "outputs": [
    {
     "data": {
      "text/html": [
       "<div>\n",
       "<style scoped>\n",
       "    .dataframe tbody tr th:only-of-type {\n",
       "        vertical-align: middle;\n",
       "    }\n",
       "\n",
       "    .dataframe tbody tr th {\n",
       "        vertical-align: top;\n",
       "    }\n",
       "\n",
       "    .dataframe thead th {\n",
       "        text-align: right;\n",
       "    }\n",
       "</style>\n",
       "<table border=\"1\" class=\"dataframe\">\n",
       "  <thead>\n",
       "    <tr style=\"text-align: right;\">\n",
       "      <th></th>\n",
       "      <th>0</th>\n",
       "      <th>1</th>\n",
       "      <th>2</th>\n",
       "    </tr>\n",
       "  </thead>\n",
       "  <tbody>\n",
       "    <tr>\n",
       "      <th>1</th>\n",
       "      <td>1</td>\n",
       "      <td>fear</td>\n",
       "      <td>Every time I imagine that someone I love or I ...</td>\n",
       "    </tr>\n",
       "    <tr>\n",
       "      <th>2</th>\n",
       "      <td>2</td>\n",
       "      <td>anger</td>\n",
       "      <td>When I had been obviously unjustly treated and...</td>\n",
       "    </tr>\n",
       "    <tr>\n",
       "      <th>3</th>\n",
       "      <td>3</td>\n",
       "      <td>sadness</td>\n",
       "      <td>When I think about the short time that we live...</td>\n",
       "    </tr>\n",
       "    <tr>\n",
       "      <th>4</th>\n",
       "      <td>4</td>\n",
       "      <td>disgust</td>\n",
       "      <td>At a gathering I found myself involuntarily si...</td>\n",
       "    </tr>\n",
       "    <tr>\n",
       "      <th>5</th>\n",
       "      <td>5</td>\n",
       "      <td>shame</td>\n",
       "      <td>When I realized that I was directing the feeli...</td>\n",
       "    </tr>\n",
       "  </tbody>\n",
       "</table>\n",
       "</div>"
      ],
      "text/plain": [
       "   0        1                                                  2\n",
       "1  1     fear  Every time I imagine that someone I love or I ...\n",
       "2  2    anger  When I had been obviously unjustly treated and...\n",
       "3  3  sadness  When I think about the short time that we live...\n",
       "4  4  disgust  At a gathering I found myself involuntarily si...\n",
       "5  5    shame  When I realized that I was directing the feeli..."
      ]
     },
     "execution_count": 4,
     "metadata": {},
     "output_type": "execute_result"
    }
   ],
   "source": [
    "df = df.drop([0])\n",
    "df.head()"
   ]
  },
  {
   "cell_type": "code",
   "execution_count": 5,
   "metadata": {},
   "outputs": [],
   "source": [
    "col_names = ['emotion', 'text']"
   ]
  },
  {
   "cell_type": "code",
   "execution_count": 6,
   "metadata": {},
   "outputs": [
    {
     "data": {
      "text/html": [
       "<div>\n",
       "<style scoped>\n",
       "    .dataframe tbody tr th:only-of-type {\n",
       "        vertical-align: middle;\n",
       "    }\n",
       "\n",
       "    .dataframe tbody tr th {\n",
       "        vertical-align: top;\n",
       "    }\n",
       "\n",
       "    .dataframe thead th {\n",
       "        text-align: right;\n",
       "    }\n",
       "</style>\n",
       "<table border=\"1\" class=\"dataframe\">\n",
       "  <thead>\n",
       "    <tr style=\"text-align: right;\">\n",
       "      <th></th>\n",
       "      <th>0</th>\n",
       "      <th>emotion</th>\n",
       "      <th>text</th>\n",
       "    </tr>\n",
       "  </thead>\n",
       "  <tbody>\n",
       "    <tr>\n",
       "      <th>1</th>\n",
       "      <td>1</td>\n",
       "      <td>fear</td>\n",
       "      <td>Every time I imagine that someone I love or I ...</td>\n",
       "    </tr>\n",
       "    <tr>\n",
       "      <th>2</th>\n",
       "      <td>2</td>\n",
       "      <td>anger</td>\n",
       "      <td>When I had been obviously unjustly treated and...</td>\n",
       "    </tr>\n",
       "    <tr>\n",
       "      <th>3</th>\n",
       "      <td>3</td>\n",
       "      <td>sadness</td>\n",
       "      <td>When I think about the short time that we live...</td>\n",
       "    </tr>\n",
       "    <tr>\n",
       "      <th>4</th>\n",
       "      <td>4</td>\n",
       "      <td>disgust</td>\n",
       "      <td>At a gathering I found myself involuntarily si...</td>\n",
       "    </tr>\n",
       "    <tr>\n",
       "      <th>5</th>\n",
       "      <td>5</td>\n",
       "      <td>shame</td>\n",
       "      <td>When I realized that I was directing the feeli...</td>\n",
       "    </tr>\n",
       "  </tbody>\n",
       "</table>\n",
       "</div>"
      ],
      "text/plain": [
       "   0  emotion                                               text\n",
       "1  1     fear  Every time I imagine that someone I love or I ...\n",
       "2  2    anger  When I had been obviously unjustly treated and...\n",
       "3  3  sadness  When I think about the short time that we live...\n",
       "4  4  disgust  At a gathering I found myself involuntarily si...\n",
       "5  5    shame  When I realized that I was directing the feeli..."
      ]
     },
     "execution_count": 6,
     "metadata": {},
     "output_type": "execute_result"
    }
   ],
   "source": [
    "df = df.rename(columns={1: \"emotion\", 2: \"text\"}, errors=\"raise\")\n",
    "df.head()"
   ]
  },
  {
   "cell_type": "code",
   "execution_count": 7,
   "metadata": {},
   "outputs": [],
   "source": [
    "df = df.drop([0], axis=1)"
   ]
  },
  {
   "cell_type": "code",
   "execution_count": 8,
   "metadata": {},
   "outputs": [
    {
     "data": {
      "text/html": [
       "<div>\n",
       "<style scoped>\n",
       "    .dataframe tbody tr th:only-of-type {\n",
       "        vertical-align: middle;\n",
       "    }\n",
       "\n",
       "    .dataframe tbody tr th {\n",
       "        vertical-align: top;\n",
       "    }\n",
       "\n",
       "    .dataframe thead th {\n",
       "        text-align: right;\n",
       "    }\n",
       "</style>\n",
       "<table border=\"1\" class=\"dataframe\">\n",
       "  <thead>\n",
       "    <tr style=\"text-align: right;\">\n",
       "      <th></th>\n",
       "      <th>emotion</th>\n",
       "      <th>text</th>\n",
       "    </tr>\n",
       "  </thead>\n",
       "  <tbody>\n",
       "    <tr>\n",
       "      <th>1</th>\n",
       "      <td>fear</td>\n",
       "      <td>Every time I imagine that someone I love or I ...</td>\n",
       "    </tr>\n",
       "    <tr>\n",
       "      <th>2</th>\n",
       "      <td>anger</td>\n",
       "      <td>When I had been obviously unjustly treated and...</td>\n",
       "    </tr>\n",
       "    <tr>\n",
       "      <th>3</th>\n",
       "      <td>sadness</td>\n",
       "      <td>When I think about the short time that we live...</td>\n",
       "    </tr>\n",
       "    <tr>\n",
       "      <th>4</th>\n",
       "      <td>disgust</td>\n",
       "      <td>At a gathering I found myself involuntarily si...</td>\n",
       "    </tr>\n",
       "    <tr>\n",
       "      <th>5</th>\n",
       "      <td>shame</td>\n",
       "      <td>When I realized that I was directing the feeli...</td>\n",
       "    </tr>\n",
       "  </tbody>\n",
       "</table>\n",
       "</div>"
      ],
      "text/plain": [
       "   emotion                                               text\n",
       "1     fear  Every time I imagine that someone I love or I ...\n",
       "2    anger  When I had been obviously unjustly treated and...\n",
       "3  sadness  When I think about the short time that we live...\n",
       "4  disgust  At a gathering I found myself involuntarily si...\n",
       "5    shame  When I realized that I was directing the feeli..."
      ]
     },
     "execution_count": 8,
     "metadata": {},
     "output_type": "execute_result"
    }
   ],
   "source": [
    "df.head()"
   ]
  },
  {
   "cell_type": "code",
   "execution_count": 9,
   "metadata": {},
   "outputs": [],
   "source": [
    "# !pip install nltk"
   ]
  },
  {
   "cell_type": "code",
   "execution_count": 10,
   "metadata": {},
   "outputs": [
    {
     "name": "stdout",
     "output_type": "stream",
     "text": [
      "Starting...\n"
     ]
    }
   ],
   "source": [
    "import string\n",
    "import pandas as pd\n",
    "from nltk.tokenize import word_tokenize\n",
    "from nltk.corpus import stopwords\n",
    "\n",
    "review_lines = list()\n",
    "lines = df['text'].values.tolist()\n",
    "\n",
    "\n",
    "print(\"Starting...\")\n",
    "for line in lines:\n",
    "    tokens = word_tokenize(line)\n",
    "\n",
    "    # lower case\n",
    "    tokens = [word.lower() for word in tokens]\n",
    "    \n",
    "    # remove punctuation\n",
    "    table = str.maketrans('', '', string.punctuation)\n",
    "    stripped = [word.translate(table) for word in tokens]\n",
    "    \n",
    "    # take only alphabetic\n",
    "    words = [word for word in stripped if word.isalpha()]\n",
    "    \n",
    "    # filter stop words\n",
    "    stop_words = set(stopwords.words('english'))\n",
    "    words = [word for word in words if not word in stop_words]\n",
    "    review_lines.append(words)\n",
    "\n",
    "data = []\n",
    "for sentences in review_lines:\n",
    "    data.append(\" \". join(sentences))\n",
    "\n",
    "# cleaned_df = pd.DataFrame(data={'review': data, 'emotion': df['emotion'].values.tolist()})\n",
    "# cleaned_df.to_csv('cleaned_movie_data.csv', index=False, encoding='utf-8')"
   ]
  },
  {
   "cell_type": "code",
   "execution_count": 11,
   "metadata": {},
   "outputs": [
    {
     "data": {
      "text/html": [
       "<div>\n",
       "<style scoped>\n",
       "    .dataframe tbody tr th:only-of-type {\n",
       "        vertical-align: middle;\n",
       "    }\n",
       "\n",
       "    .dataframe tbody tr th {\n",
       "        vertical-align: top;\n",
       "    }\n",
       "\n",
       "    .dataframe thead th {\n",
       "        text-align: right;\n",
       "    }\n",
       "</style>\n",
       "<table border=\"1\" class=\"dataframe\">\n",
       "  <thead>\n",
       "    <tr style=\"text-align: right;\">\n",
       "      <th></th>\n",
       "      <th>review</th>\n",
       "      <th>emotion</th>\n",
       "    </tr>\n",
       "  </thead>\n",
       "  <tbody>\n",
       "    <tr>\n",
       "      <th>0</th>\n",
       "      <td>every time imagine someone love could contact ...</td>\n",
       "      <td>fear</td>\n",
       "    </tr>\n",
       "    <tr>\n",
       "      <th>1</th>\n",
       "      <td>obviously unjustly treated possibility elucida...</td>\n",
       "      <td>anger</td>\n",
       "    </tr>\n",
       "    <tr>\n",
       "      <th>2</th>\n",
       "      <td>think short time live relate periods life thin...</td>\n",
       "      <td>sadness</td>\n",
       "    </tr>\n",
       "    <tr>\n",
       "      <th>3</th>\n",
       "      <td>gathering found involuntarily sitting next two...</td>\n",
       "      <td>disgust</td>\n",
       "    </tr>\n",
       "    <tr>\n",
       "      <th>4</th>\n",
       "      <td>realized directing feelings discontent partner...</td>\n",
       "      <td>shame</td>\n",
       "    </tr>\n",
       "  </tbody>\n",
       "</table>\n",
       "</div>"
      ],
      "text/plain": [
       "                                              review  emotion\n",
       "0  every time imagine someone love could contact ...     fear\n",
       "1  obviously unjustly treated possibility elucida...    anger\n",
       "2  think short time live relate periods life thin...  sadness\n",
       "3  gathering found involuntarily sitting next two...  disgust\n",
       "4  realized directing feelings discontent partner...    shame"
      ]
     },
     "execution_count": 11,
     "metadata": {},
     "output_type": "execute_result"
    }
   ],
   "source": [
    "cleaned_df = pd.DataFrame(data={'review': data, 'emotion': df['emotion'].values.tolist()})\n",
    "cleaned_df.head()"
   ]
  },
  {
   "cell_type": "code",
   "execution_count": 12,
   "metadata": {},
   "outputs": [],
   "source": [
    "df = cleaned_df.copy()"
   ]
  },
  {
   "cell_type": "code",
   "execution_count": 13,
   "metadata": {},
   "outputs": [],
   "source": [
    "from sklearn.preprocessing import LabelEncoder\n",
    "encoder = LabelEncoder()\n",
    "encoder.fit(df['emotion'])\n",
    "y = encoder.transform(df['emotion'])"
   ]
  },
  {
   "cell_type": "code",
   "execution_count": 14,
   "metadata": {},
   "outputs": [],
   "source": [
    "df['emotion'] = y"
   ]
  },
  {
   "cell_type": "code",
   "execution_count": 15,
   "metadata": {},
   "outputs": [],
   "source": [
    "from sklearn.model_selection import train_test_split\n",
    "train_review, test_review, train_emotion, test_emotion = train_test_split(df['review'],\n",
    "                                                                              df['emotion'], \n",
    "                                                                              test_size=0.20,\n",
    "                                                                              stratify=df['emotion'], \n",
    "                                                                              random_state=42\n",
    "                                                                              )"
   ]
  },
  {
   "cell_type": "code",
   "execution_count": 16,
   "metadata": {},
   "outputs": [],
   "source": [
    "train_review_lines = [line.split(\" \") for line in train_review.values.tolist()]\n",
    "test_review_lines = [line.split(\" \") for line in test_review.values.tolist()]\n",
    "\n",
    "y_train = train_emotion.values\n",
    "y_test = test_emotion.values"
   ]
  },
  {
   "cell_type": "code",
   "execution_count": 17,
   "metadata": {},
   "outputs": [
    {
     "data": {
      "text/plain": [
       "array([3, 6, 3, ..., 0, 6, 2])"
      ]
     },
     "execution_count": 17,
     "metadata": {},
     "output_type": "execute_result"
    }
   ],
   "source": [
    "y_train"
   ]
  },
  {
   "cell_type": "code",
   "execution_count": 18,
   "metadata": {},
   "outputs": [
    {
     "name": "stdout",
     "output_type": "stream",
     "text": [
      "Minimum number of words: 1\n",
      "Maximum number of words: 79\n",
      "Mean number of words: 10\n"
     ]
    }
   ],
   "source": [
    "import math\n",
    "mean = 0\n",
    "word_counts = []\n",
    "for line in train_review_lines:\n",
    "    mean += len(line)\n",
    "    word_counts.append(len(line))\n",
    "mean = math.ceil(mean/len(train_review_lines))\n",
    "print(f\"Minimum number of words: {min(word_counts)}\") \n",
    "print(f\"Maximum number of words: {max(word_counts)}\")\n",
    "print(f\"Mean number of words: {mean}\")"
   ]
  },
  {
   "cell_type": "code",
   "execution_count": 19,
   "metadata": {},
   "outputs": [
    {
     "data": {
      "image/png": "[encoded data removed]",
      "text/plain": [
       "<Figure size 432x288 with 1 Axes>"
      ]
     },
     "metadata": {
      "needs_background": "light"
     },
     "output_type": "display_data"
    }
   ],
   "source": [
    "import matplotlib.pyplot as plt\n",
    "plt.hist(word_counts)\n",
    "plt.show()"
   ]
  },
  {
   "cell_type": "code",
   "execution_count": 20,
   "metadata": {},
   "outputs": [
    {
     "data": {
      "text/plain": [
       "grandmother died                                                                      9\n",
       "grandfather died                                                                      9\n",
       "well examn                                                                            8\n",
       "response                                                                              6\n",
       "death grandmother                                                                     4\n",
       "                                                                                     ..\n",
       "phoned friend mine ask news marks exam told passed                                    1\n",
       "dad passed away                                                                       1\n",
       "people refuse house jobs give work someone else                                       1\n",
       "close friend mine refused entrance medical school grades good left biased judgment    1\n",
       "made boyfriend unhappy depressed feel guilty                                          1\n",
       "Name: review, Length: 7338, dtype: int64"
      ]
     },
     "execution_count": 20,
     "metadata": {},
     "output_type": "execute_result"
    }
   ],
   "source": [
    "df['review'].value_counts()"
   ]
  },
  {
   "cell_type": "markdown",
   "metadata": {},
   "source": [
    "May not perform better in LSTM"
   ]
  },
  {
   "cell_type": "code",
   "execution_count": 21,
   "metadata": {},
   "outputs": [],
   "source": [
    "MAX_SEQUENCE_LENGTH = 10"
   ]
  },
  {
   "cell_type": "code",
   "execution_count": 22,
   "metadata": {},
   "outputs": [],
   "source": [
    "# !pip install tensorflow"
   ]
  },
  {
   "cell_type": "code",
   "execution_count": 23,
   "metadata": {},
   "outputs": [],
   "source": [
    "from tensorflow.python.keras.preprocessing.text import Tokenizer\n",
    "from tensorflow.python.keras.preprocessing.sequence import pad_sequences\n",
    "\n",
    "tokenizer = Tokenizer()\n",
    "tokenizer.fit_on_texts(train_review_lines) # fit on train set\n",
    "\n",
    "# train sequences\n",
    "train_sequences = tokenizer.texts_to_sequences(train_review_lines)\n",
    "\n",
    "# test sequences\n",
    "test_sequences = tokenizer.texts_to_sequences(test_review_lines)\n",
    "\n",
    "# train pad sequences (length = MAX_SEQUENCE_LENGTH)\n",
    "X_train = pad_sequences(train_sequences, maxlen=MAX_SEQUENCE_LENGTH, padding='post', truncating='post')\n",
    "\n",
    "# test pad sequences (length = MAX_SEQUENCE_LENGTH)\n",
    "X_test = pad_sequences(test_sequences, maxlen=MAX_SEQUENCE_LENGTH, padding='post', truncating='post')"
   ]
  },
  {
   "cell_type": "code",
   "execution_count": 24,
   "metadata": {},
   "outputs": [
    {
     "name": "stdout",
     "output_type": "stream",
     "text": [
      "nice: 466\n",
      "good: 39\n",
      "bad: 94\n",
      "better: 417\n"
     ]
    }
   ],
   "source": [
    "word_index = tokenizer.word_index\n",
    "test_words = ['nice', 'good', 'bad', 'better']\n",
    "for word in test_words:\n",
    "  print(f\"{word}: {word_index[word]}\")"
   ]
  },
  {
   "cell_type": "code",
   "execution_count": 25,
   "metadata": {},
   "outputs": [],
   "source": [
    "# pip install keras"
   ]
  },
  {
   "cell_type": "code",
   "execution_count": 26,
   "metadata": {},
   "outputs": [
    {
     "name": "stdout",
     "output_type": "stream",
     "text": [
      "Model: \"imbd_sentiment_classifier\"\n",
      "_________________________________________________________________\n",
      "Layer (type)                 Output Shape              Param #   \n",
      "=================================================================\n",
      "embedding (Embedding)        (None, 10, 150)           1190400   \n",
      "_________________________________________________________________\n",
      "flatten (Flatten)            (None, 1500)              0         \n",
      "_________________________________________________________________\n",
      "dense (Dense)                (None, 7)                 10507     \n",
      "=================================================================\n",
      "Total params: 1,200,907\n",
      "Trainable params: 1,200,907\n",
      "Non-trainable params: 0\n",
      "_________________________________________________________________\n",
      "None\n"
     ]
    }
   ],
   "source": [
    "from keras.models import Sequential\n",
    "from keras.layers import Dense, Embedding, Flatten\n",
    "from keras.layers.embeddings import Embedding\n",
    "from keras.initializers import RandomNormal\n",
    "\n",
    "NUM_TOKENS = len(word_index) + 1\n",
    "EMBEDDING_DIM = 150\n",
    "\n",
    "model_clf = Sequential(name='imbd_sentiment_classifier')\n",
    "embedding_layer = Embedding(input_dim=NUM_TOKENS,\n",
    "                            output_dim=EMBEDDING_DIM,\n",
    "                            embeddings_initializer=RandomNormal(),\n",
    "                            input_length=MAX_SEQUENCE_LENGTH,\n",
    "                            trainable=True\n",
    "                            )\n",
    "model_clf.add(embedding_layer)\n",
    "model_clf.add(Flatten())\n",
    "model_clf.add(Dense(7, activation='softmax'))\n",
    "model_clf.compile(loss='sparse_categorical_crossentropy', optimizer='adam', metrics=['accuracy'])\n",
    "print(model_clf.summary())"
   ]
  },
  {
   "cell_type": "code",
   "execution_count": 27,
   "metadata": {},
   "outputs": [
    {
     "name": "stdout",
     "output_type": "stream",
     "text": [
      "Training......\n",
      "Epoch 1/25\n",
      "149/149 [==============================] - 3s 17ms/step - loss: 1.9071 - accuracy: 0.2357 - val_loss: 1.8523 - val_accuracy: 0.3414\n",
      "Epoch 2/25\n",
      "149/149 [==============================] - 2s 16ms/step - loss: 1.5658 - accuracy: 0.6749 - val_loss: 1.6030 - val_accuracy: 0.4513\n",
      "Epoch 3/25\n",
      "149/149 [==============================] - 2s 16ms/step - loss: 1.0205 - accuracy: 0.8168 - val_loss: 1.4084 - val_accuracy: 0.5000\n",
      "Epoch 4/25\n",
      "149/149 [==============================] - 2s 16ms/step - loss: 0.5792 - accuracy: 0.9053 - val_loss: 1.3565 - val_accuracy: 0.5017\n",
      "Epoch 5/25\n",
      "149/149 [==============================] - 2s 16ms/step - loss: 0.3321 - accuracy: 0.9540 - val_loss: 1.3581 - val_accuracy: 0.5034\n",
      "Epoch 6/25\n",
      "149/149 [==============================] - 2s 16ms/step - loss: 0.2051 - accuracy: 0.9757 - val_loss: 1.3790 - val_accuracy: 0.4983\n",
      "Epoch 7/25\n",
      "149/149 [==============================] - 2s 16ms/step - loss: 0.1360 - accuracy: 0.9845 - val_loss: 1.4130 - val_accuracy: 0.4992\n",
      "Epoch 8/25\n",
      "149/149 [==============================] - 2s 16ms/step - loss: 0.0969 - accuracy: 0.9891 - val_loss: 1.4400 - val_accuracy: 0.4950\n",
      "Epoch 9/25\n",
      "149/149 [==============================] - 2s 16ms/step - loss: 0.0723 - accuracy: 0.9910 - val_loss: 1.4748 - val_accuracy: 0.4958\n",
      "Epoch 10/25\n",
      "149/149 [==============================] - 2s 16ms/step - loss: 0.0560 - accuracy: 0.9935 - val_loss: 1.5069 - val_accuracy: 0.4899\n",
      "Epoch 11/25\n",
      "149/149 [==============================] - 2s 16ms/step - loss: 0.0450 - accuracy: 0.9952 - val_loss: 1.5425 - val_accuracy: 0.4899\n",
      "Epoch 12/25\n",
      "149/149 [==============================] - 2s 16ms/step - loss: 0.0364 - accuracy: 0.9956 - val_loss: 1.5698 - val_accuracy: 0.4866\n",
      "Epoch 13/25\n",
      "149/149 [==============================] - 2s 16ms/step - loss: 0.0309 - accuracy: 0.9960 - val_loss: 1.6060 - val_accuracy: 0.4883\n",
      "Epoch 14/25\n",
      "149/149 [==============================] - 3s 17ms/step - loss: 0.0258 - accuracy: 0.9960 - val_loss: 1.6408 - val_accuracy: 0.4841\n",
      "Epoch 15/25\n",
      "149/149 [==============================] - 2s 17ms/step - loss: 0.0225 - accuracy: 0.9960 - val_loss: 1.6635 - val_accuracy: 0.4857\n",
      "Epoch 16/25\n",
      "149/149 [==============================] - 2s 17ms/step - loss: 0.0199 - accuracy: 0.9964 - val_loss: 1.7004 - val_accuracy: 0.4866\n",
      "Epoch 17/25\n",
      "149/149 [==============================] - 2s 16ms/step - loss: 0.0180 - accuracy: 0.9962 - val_loss: 1.7216 - val_accuracy: 0.4874\n",
      "Epoch 18/25\n",
      "149/149 [==============================] - 3s 17ms/step - loss: 0.0159 - accuracy: 0.9969 - val_loss: 1.7615 - val_accuracy: 0.4841\n",
      "Epoch 19/25\n",
      "149/149 [==============================] - 3s 17ms/step - loss: 0.0146 - accuracy: 0.9971 - val_loss: 1.7693 - val_accuracy: 0.4891\n",
      "Epoch 20/25\n",
      "149/149 [==============================] - 2s 17ms/step - loss: 0.0133 - accuracy: 0.9973 - val_loss: 1.8133 - val_accuracy: 0.4799\n",
      "Epoch 21/25\n",
      "149/149 [==============================] - 3s 17ms/step - loss: 0.0125 - accuracy: 0.9975 - val_loss: 1.8235 - val_accuracy: 0.4807\n",
      "Epoch 22/25\n",
      "149/149 [==============================] - 3s 17ms/step - loss: 0.0118 - accuracy: 0.9969 - val_loss: 1.8584 - val_accuracy: 0.4799\n",
      "Epoch 23/25\n",
      "149/149 [==============================] - 3s 17ms/step - loss: 0.0113 - accuracy: 0.9962 - val_loss: 1.8744 - val_accuracy: 0.4799\n",
      "Epoch 24/25\n",
      "149/149 [==============================] - 3s 17ms/step - loss: 0.0107 - accuracy: 0.9969 - val_loss: 1.8985 - val_accuracy: 0.4790\n",
      "Epoch 25/25\n",
      "149/149 [==============================] - 3s 17ms/step - loss: 0.0099 - accuracy: 0.9973 - val_loss: 1.9229 - val_accuracy: 0.4790\n",
      "CPU times: user 4min 22s, sys: 27.4 s, total: 4min 49s\n",
      "Wall time: 1min 2s\n"
     ]
    },
    {
     "data": {
      "text/plain": [
       "<tensorflow.python.keras.callbacks.History at 0x7ff2fc4b86d0>"
      ]
     },
     "execution_count": 27,
     "metadata": {},
     "output_type": "execute_result"
    }
   ],
   "source": [
    "%%time\n",
    "print(\"Training......\")\n",
    "model_clf.fit(X_train, y_train, batch_size=32, epochs=25, shuffle=True, validation_split=0.2, verbose=1)"
   ]
  },
  {
   "cell_type": "code",
   "execution_count": null,
   "metadata": {},
   "outputs": [],
   "source": []
  }
 ],
 "metadata": {
  "kernelspec": {
   "display_name": "Python 3",
   "language": "python",
   "name": "python3"
  },
  "language_info": {
   "codemirror_mode": {
    "name": "ipython",
    "version": 3
   },
   "file_extension": ".py",
   "mimetype": "text/x-python",
   "name": "python",
   "nbconvert_exporter": "python",
   "pygments_lexer": "ipython3",
   "version": "3.7.9"
  }
 },
 "nbformat": 4,
 "nbformat_minor": 4
}
