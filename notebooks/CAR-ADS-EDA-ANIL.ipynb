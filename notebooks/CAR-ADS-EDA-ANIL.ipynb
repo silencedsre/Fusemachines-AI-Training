{
 "cells": [
  {
   "cell_type": "markdown",
   "metadata": {
    "papermill": {
     "duration": 0.037284,
     "end_time": "2021-01-04T04:31:19.358768",
     "exception": false,
     "start_time": "2021-01-04T04:31:19.321484",
     "status": "completed"
    },
    "tags": []
   },
   "source": [
    "# Objective of the EDA\n",
    "* Which factors determine the price of a car? \n",
    "* With what accuracy can the price be predicted?\n",
    "* Can a model trained on all cars be used to accurately predict prices of models with only a few samples?"
   ]
  },
  {
   "cell_type": "code",
   "execution_count": 1,
   "metadata": {
    "_cell_guid": "b1076dfc-b9ad-4769-8c92-a6c4dae69d19",
    "_uuid": "8f2839f25d086af736a60e9eeb907d3b93b6e0e5",
    "execution": {
     "iopub.execute_input": "2021-01-04T04:31:19.438791Z",
     "iopub.status.busy": "2021-01-04T04:31:19.438003Z",
     "iopub.status.idle": "2021-01-04T04:31:19.441964Z",
     "shell.execute_reply": "2021-01-04T04:31:19.441171Z"
    },
    "papermill": {
     "duration": 0.045881,
     "end_time": "2021-01-04T04:31:19.442117",
     "exception": false,
     "start_time": "2021-01-04T04:31:19.396236",
     "status": "completed"
    },
    "tags": []
   },
   "outputs": [],
   "source": [
    "# This Python 3 environment comes with many helpful analytics libraries installed\n",
    "# It is defined by the kaggle/python Docker image: https://github.com/kaggle/docker-python\n",
    "# For example, here's several helpful packages to load\n",
    "\n",
    "import numpy as np # linear algebra\n",
    "import pandas as pd # data processing, CSV file I/O (e.g. pd.read_csv)"
   ]
  },
  {
   "cell_type": "markdown",
   "metadata": {
    "papermill": {
     "duration": 0.035424,
     "end_time": "2021-01-04T04:31:19.513478",
     "exception": false,
     "start_time": "2021-01-04T04:31:19.478054",
     "status": "completed"
    },
    "tags": []
   },
   "source": [
    "# load data"
   ]
  },
  {
   "cell_type": "code",
   "execution_count": 2,
   "metadata": {
    "_cell_guid": "79c7e3d0-c299-4dcb-8224-4455121ee9b0",
    "_uuid": "d629ff2d2480ee46fbb7e2d37f6b5fab8052498a",
    "execution": {
     "iopub.execute_input": "2021-01-04T04:31:19.600725Z",
     "iopub.status.busy": "2021-01-04T04:31:19.599923Z",
     "iopub.status.idle": "2021-01-04T04:31:38.885571Z",
     "shell.execute_reply": "2021-01-04T04:31:38.886212Z"
    },
    "papermill": {
     "duration": 19.336355,
     "end_time": "2021-01-04T04:31:38.886377",
     "exception": false,
     "start_time": "2021-01-04T04:31:19.550022",
     "status": "completed"
    },
    "tags": []
   },
   "outputs": [
    {
     "name": "stderr",
     "output_type": "stream",
     "text": [
      "/opt/conda/lib/python3.7/site-packages/IPython/core/interactiveshell.py:3063: DtypeWarning: Columns (7,8,10,11,12) have mixed types.Specify dtype option on import or set low_memory=False.\n",
      "  interactivity=interactivity, compiler=compiler, result=result)\n"
     ]
    },
    {
     "data": {
      "text/html": [
       "<div>\n",
       "<style scoped>\n",
       "    .dataframe tbody tr th:only-of-type {\n",
       "        vertical-align: middle;\n",
       "    }\n",
       "\n",
       "    .dataframe tbody tr th {\n",
       "        vertical-align: top;\n",
       "    }\n",
       "\n",
       "    .dataframe thead th {\n",
       "        text-align: right;\n",
       "    }\n",
       "</style>\n",
       "<table border=\"1\" class=\"dataframe\">\n",
       "  <thead>\n",
       "    <tr style=\"text-align: right;\">\n",
       "      <th></th>\n",
       "      <th>maker</th>\n",
       "      <th>model</th>\n",
       "      <th>mileage</th>\n",
       "      <th>manufacture_year</th>\n",
       "      <th>engine_displacement</th>\n",
       "      <th>engine_power</th>\n",
       "      <th>body_type</th>\n",
       "      <th>color_slug</th>\n",
       "      <th>stk_year</th>\n",
       "      <th>transmission</th>\n",
       "      <th>door_count</th>\n",
       "      <th>seat_count</th>\n",
       "      <th>fuel_type</th>\n",
       "      <th>date_created</th>\n",
       "      <th>date_last_seen</th>\n",
       "      <th>price_eur</th>\n",
       "    </tr>\n",
       "  </thead>\n",
       "  <tbody>\n",
       "    <tr>\n",
       "      <th>0</th>\n",
       "      <td>ford</td>\n",
       "      <td>galaxy</td>\n",
       "      <td>151000.0</td>\n",
       "      <td>2011.0</td>\n",
       "      <td>2000.0</td>\n",
       "      <td>103.0</td>\n",
       "      <td>NaN</td>\n",
       "      <td>NaN</td>\n",
       "      <td>None</td>\n",
       "      <td>man</td>\n",
       "      <td>5</td>\n",
       "      <td>7</td>\n",
       "      <td>diesel</td>\n",
       "      <td>2015-11-14 18:10:06.838319+00</td>\n",
       "      <td>2016-01-27 20:40:15.46361+00</td>\n",
       "      <td>10584.75</td>\n",
       "    </tr>\n",
       "    <tr>\n",
       "      <th>1</th>\n",
       "      <td>skoda</td>\n",
       "      <td>octavia</td>\n",
       "      <td>143476.0</td>\n",
       "      <td>2012.0</td>\n",
       "      <td>2000.0</td>\n",
       "      <td>81.0</td>\n",
       "      <td>NaN</td>\n",
       "      <td>NaN</td>\n",
       "      <td>None</td>\n",
       "      <td>man</td>\n",
       "      <td>5</td>\n",
       "      <td>5</td>\n",
       "      <td>diesel</td>\n",
       "      <td>2015-11-14 18:10:06.853411+00</td>\n",
       "      <td>2016-01-27 20:40:15.46361+00</td>\n",
       "      <td>8882.31</td>\n",
       "    </tr>\n",
       "    <tr>\n",
       "      <th>2</th>\n",
       "      <td>bmw</td>\n",
       "      <td>NaN</td>\n",
       "      <td>97676.0</td>\n",
       "      <td>2010.0</td>\n",
       "      <td>1995.0</td>\n",
       "      <td>85.0</td>\n",
       "      <td>NaN</td>\n",
       "      <td>NaN</td>\n",
       "      <td>None</td>\n",
       "      <td>man</td>\n",
       "      <td>5</td>\n",
       "      <td>5</td>\n",
       "      <td>diesel</td>\n",
       "      <td>2015-11-14 18:10:06.861792+00</td>\n",
       "      <td>2016-01-27 20:40:15.46361+00</td>\n",
       "      <td>12065.06</td>\n",
       "    </tr>\n",
       "    <tr>\n",
       "      <th>3</th>\n",
       "      <td>skoda</td>\n",
       "      <td>fabia</td>\n",
       "      <td>111970.0</td>\n",
       "      <td>2004.0</td>\n",
       "      <td>1200.0</td>\n",
       "      <td>47.0</td>\n",
       "      <td>NaN</td>\n",
       "      <td>NaN</td>\n",
       "      <td>None</td>\n",
       "      <td>man</td>\n",
       "      <td>5</td>\n",
       "      <td>5</td>\n",
       "      <td>gasoline</td>\n",
       "      <td>2015-11-14 18:10:06.872313+00</td>\n",
       "      <td>2016-01-27 20:40:15.46361+00</td>\n",
       "      <td>2960.77</td>\n",
       "    </tr>\n",
       "    <tr>\n",
       "      <th>4</th>\n",
       "      <td>skoda</td>\n",
       "      <td>fabia</td>\n",
       "      <td>128886.0</td>\n",
       "      <td>2004.0</td>\n",
       "      <td>1200.0</td>\n",
       "      <td>47.0</td>\n",
       "      <td>NaN</td>\n",
       "      <td>NaN</td>\n",
       "      <td>None</td>\n",
       "      <td>man</td>\n",
       "      <td>5</td>\n",
       "      <td>5</td>\n",
       "      <td>gasoline</td>\n",
       "      <td>2015-11-14 18:10:06.880335+00</td>\n",
       "      <td>2016-01-27 20:40:15.46361+00</td>\n",
       "      <td>2738.71</td>\n",
       "    </tr>\n",
       "    <tr>\n",
       "      <th>...</th>\n",
       "      <td>...</td>\n",
       "      <td>...</td>\n",
       "      <td>...</td>\n",
       "      <td>...</td>\n",
       "      <td>...</td>\n",
       "      <td>...</td>\n",
       "      <td>...</td>\n",
       "      <td>...</td>\n",
       "      <td>...</td>\n",
       "      <td>...</td>\n",
       "      <td>...</td>\n",
       "      <td>...</td>\n",
       "      <td>...</td>\n",
       "      <td>...</td>\n",
       "      <td>...</td>\n",
       "      <td>...</td>\n",
       "    </tr>\n",
       "    <tr>\n",
       "      <th>3552907</th>\n",
       "      <td>skoda</td>\n",
       "      <td>roomster</td>\n",
       "      <td>54000.0</td>\n",
       "      <td>2013.0</td>\n",
       "      <td>1200.0</td>\n",
       "      <td>63.0</td>\n",
       "      <td>other</td>\n",
       "      <td>NaN</td>\n",
       "      <td>NaN</td>\n",
       "      <td>NaN</td>\n",
       "      <td>NaN</td>\n",
       "      <td>NaN</td>\n",
       "      <td>NaN</td>\n",
       "      <td>2017-03-16 18:57:35.46558+00</td>\n",
       "      <td>2017-03-16 18:57:35.46558+00</td>\n",
       "      <td>1295.34</td>\n",
       "    </tr>\n",
       "    <tr>\n",
       "      <th>3552908</th>\n",
       "      <td>skoda</td>\n",
       "      <td>felicia</td>\n",
       "      <td>NaN</td>\n",
       "      <td>2000.0</td>\n",
       "      <td>NaN</td>\n",
       "      <td>50.0</td>\n",
       "      <td>other</td>\n",
       "      <td>NaN</td>\n",
       "      <td>NaN</td>\n",
       "      <td>NaN</td>\n",
       "      <td>NaN</td>\n",
       "      <td>NaN</td>\n",
       "      <td>electric</td>\n",
       "      <td>2017-03-16 18:57:37.761349+00</td>\n",
       "      <td>2017-03-16 18:57:37.761349+00</td>\n",
       "      <td>1295.34</td>\n",
       "    </tr>\n",
       "    <tr>\n",
       "      <th>3552909</th>\n",
       "      <td>skoda</td>\n",
       "      <td>octavia</td>\n",
       "      <td>230000.0</td>\n",
       "      <td>2006.0</td>\n",
       "      <td>1900.0</td>\n",
       "      <td>100.0</td>\n",
       "      <td>other</td>\n",
       "      <td>NaN</td>\n",
       "      <td>NaN</td>\n",
       "      <td>NaN</td>\n",
       "      <td>NaN</td>\n",
       "      <td>NaN</td>\n",
       "      <td>NaN</td>\n",
       "      <td>2017-03-16 18:57:40.435847+00</td>\n",
       "      <td>2017-03-16 18:57:40.435847+00</td>\n",
       "      <td>1295.34</td>\n",
       "    </tr>\n",
       "    <tr>\n",
       "      <th>3552910</th>\n",
       "      <td>skoda</td>\n",
       "      <td>fabia</td>\n",
       "      <td>NaN</td>\n",
       "      <td>2001.0</td>\n",
       "      <td>NaN</td>\n",
       "      <td>NaN</td>\n",
       "      <td>other</td>\n",
       "      <td>NaN</td>\n",
       "      <td>NaN</td>\n",
       "      <td>NaN</td>\n",
       "      <td>NaN</td>\n",
       "      <td>NaN</td>\n",
       "      <td>NaN</td>\n",
       "      <td>2017-03-16 18:57:43.595523+00</td>\n",
       "      <td>2017-03-16 18:57:43.595523+00</td>\n",
       "      <td>1295.34</td>\n",
       "    </tr>\n",
       "    <tr>\n",
       "      <th>3552911</th>\n",
       "      <td>mercedes-benz</td>\n",
       "      <td>NaN</td>\n",
       "      <td>NaN</td>\n",
       "      <td>NaN</td>\n",
       "      <td>NaN</td>\n",
       "      <td>NaN</td>\n",
       "      <td>other</td>\n",
       "      <td>NaN</td>\n",
       "      <td>NaN</td>\n",
       "      <td>NaN</td>\n",
       "      <td>NaN</td>\n",
       "      <td>NaN</td>\n",
       "      <td>NaN</td>\n",
       "      <td>2017-03-16 19:22:23.946774+00</td>\n",
       "      <td>2017-03-16 19:22:23.946774+00</td>\n",
       "      <td>1295.34</td>\n",
       "    </tr>\n",
       "  </tbody>\n",
       "</table>\n",
       "<p>3552912 rows × 16 columns</p>\n",
       "</div>"
      ],
      "text/plain": [
       "                 maker     model   mileage  manufacture_year  \\\n",
       "0                 ford    galaxy  151000.0            2011.0   \n",
       "1                skoda   octavia  143476.0            2012.0   \n",
       "2                  bmw       NaN   97676.0            2010.0   \n",
       "3                skoda     fabia  111970.0            2004.0   \n",
       "4                skoda     fabia  128886.0            2004.0   \n",
       "...                ...       ...       ...               ...   \n",
       "3552907          skoda  roomster   54000.0            2013.0   \n",
       "3552908          skoda   felicia       NaN            2000.0   \n",
       "3552909          skoda   octavia  230000.0            2006.0   \n",
       "3552910          skoda     fabia       NaN            2001.0   \n",
       "3552911  mercedes-benz       NaN       NaN               NaN   \n",
       "\n",
       "         engine_displacement  engine_power body_type color_slug stk_year  \\\n",
       "0                     2000.0         103.0       NaN        NaN     None   \n",
       "1                     2000.0          81.0       NaN        NaN     None   \n",
       "2                     1995.0          85.0       NaN        NaN     None   \n",
       "3                     1200.0          47.0       NaN        NaN     None   \n",
       "4                     1200.0          47.0       NaN        NaN     None   \n",
       "...                      ...           ...       ...        ...      ...   \n",
       "3552907               1200.0          63.0     other        NaN      NaN   \n",
       "3552908                  NaN          50.0     other        NaN      NaN   \n",
       "3552909               1900.0         100.0     other        NaN      NaN   \n",
       "3552910                  NaN           NaN     other        NaN      NaN   \n",
       "3552911                  NaN           NaN     other        NaN      NaN   \n",
       "\n",
       "        transmission door_count seat_count fuel_type  \\\n",
       "0                man          5          7    diesel   \n",
       "1                man          5          5    diesel   \n",
       "2                man          5          5    diesel   \n",
       "3                man          5          5  gasoline   \n",
       "4                man          5          5  gasoline   \n",
       "...              ...        ...        ...       ...   \n",
       "3552907          NaN        NaN        NaN       NaN   \n",
       "3552908          NaN        NaN        NaN  electric   \n",
       "3552909          NaN        NaN        NaN       NaN   \n",
       "3552910          NaN        NaN        NaN       NaN   \n",
       "3552911          NaN        NaN        NaN       NaN   \n",
       "\n",
       "                          date_created                 date_last_seen  \\\n",
       "0        2015-11-14 18:10:06.838319+00   2016-01-27 20:40:15.46361+00   \n",
       "1        2015-11-14 18:10:06.853411+00   2016-01-27 20:40:15.46361+00   \n",
       "2        2015-11-14 18:10:06.861792+00   2016-01-27 20:40:15.46361+00   \n",
       "3        2015-11-14 18:10:06.872313+00   2016-01-27 20:40:15.46361+00   \n",
       "4        2015-11-14 18:10:06.880335+00   2016-01-27 20:40:15.46361+00   \n",
       "...                                ...                            ...   \n",
       "3552907   2017-03-16 18:57:35.46558+00   2017-03-16 18:57:35.46558+00   \n",
       "3552908  2017-03-16 18:57:37.761349+00  2017-03-16 18:57:37.761349+00   \n",
       "3552909  2017-03-16 18:57:40.435847+00  2017-03-16 18:57:40.435847+00   \n",
       "3552910  2017-03-16 18:57:43.595523+00  2017-03-16 18:57:43.595523+00   \n",
       "3552911  2017-03-16 19:22:23.946774+00  2017-03-16 19:22:23.946774+00   \n",
       "\n",
       "         price_eur  \n",
       "0         10584.75  \n",
       "1          8882.31  \n",
       "2         12065.06  \n",
       "3          2960.77  \n",
       "4          2738.71  \n",
       "...            ...  \n",
       "3552907    1295.34  \n",
       "3552908    1295.34  \n",
       "3552909    1295.34  \n",
       "3552910    1295.34  \n",
       "3552911    1295.34  \n",
       "\n",
       "[3552912 rows x 16 columns]"
      ]
     },
     "execution_count": 2,
     "metadata": {},
     "output_type": "execute_result"
    }
   ],
   "source": [
    "data_dir=\"../input/personal-cars-classifieds/all_anonymized_2015_11_2017_03.csv\"\n",
    "df=pd.read_csv(data_dir)\n",
    "df"
   ]
  },
  {
   "cell_type": "code",
   "execution_count": 3,
   "metadata": {
    "execution": {
     "iopub.execute_input": "2021-01-04T04:31:38.972941Z",
     "iopub.status.busy": "2021-01-04T04:31:38.971807Z",
     "iopub.status.idle": "2021-01-04T04:31:38.976794Z",
     "shell.execute_reply": "2021-01-04T04:31:38.976018Z"
    },
    "papermill": {
     "duration": 0.051276,
     "end_time": "2021-01-04T04:31:38.976949",
     "exception": false,
     "start_time": "2021-01-04T04:31:38.925673",
     "status": "completed"
    },
    "tags": []
   },
   "outputs": [
    {
     "data": {
      "text/plain": [
       "Index(['maker', 'model', 'mileage', 'manufacture_year', 'engine_displacement',\n",
       "       'engine_power', 'body_type', 'color_slug', 'stk_year', 'transmission',\n",
       "       'door_count', 'seat_count', 'fuel_type', 'date_created',\n",
       "       'date_last_seen', 'price_eur'],\n",
       "      dtype='object')"
      ]
     },
     "execution_count": 3,
     "metadata": {},
     "output_type": "execute_result"
    }
   ],
   "source": [
    "df.columns"
   ]
  },
  {
   "cell_type": "code",
   "execution_count": 4,
   "metadata": {
    "execution": {
     "iopub.execute_input": "2021-01-04T04:31:39.072142Z",
     "iopub.status.busy": "2021-01-04T04:31:39.071167Z",
     "iopub.status.idle": "2021-01-04T04:31:39.074897Z",
     "shell.execute_reply": "2021-01-04T04:31:39.075586Z"
    },
    "papermill": {
     "duration": 0.058798,
     "end_time": "2021-01-04T04:31:39.075759",
     "exception": false,
     "start_time": "2021-01-04T04:31:39.016961",
     "status": "completed"
    },
    "tags": []
   },
   "outputs": [
    {
     "name": "stdout",
     "output_type": "stream",
     "text": [
      "<class 'pandas.core.frame.DataFrame'>\n",
      "RangeIndex: 3552912 entries, 0 to 3552911\n",
      "Data columns (total 16 columns):\n",
      " #   Column               Dtype  \n",
      "---  ------               -----  \n",
      " 0   maker                object \n",
      " 1   model                object \n",
      " 2   mileage              float64\n",
      " 3   manufacture_year     float64\n",
      " 4   engine_displacement  float64\n",
      " 5   engine_power         float64\n",
      " 6   body_type            object \n",
      " 7   color_slug           object \n",
      " 8   stk_year             object \n",
      " 9   transmission         object \n",
      " 10  door_count           object \n",
      " 11  seat_count           object \n",
      " 12  fuel_type            object \n",
      " 13  date_created         object \n",
      " 14  date_last_seen       object \n",
      " 15  price_eur            float64\n",
      "dtypes: float64(5), object(11)\n",
      "memory usage: 433.7+ MB\n"
     ]
    }
   ],
   "source": [
    "df.info()"
   ]
  },
  {
   "cell_type": "markdown",
   "metadata": {
    "papermill": {
     "duration": 0.039325,
     "end_time": "2021-01-04T04:31:39.154048",
     "exception": false,
     "start_time": "2021-01-04T04:31:39.114723",
     "status": "completed"
    },
    "tags": []
   },
   "source": [
    "## Data Description\n",
    "\n",
    "|Feature                 |Description|\n",
    "|------------------------|-------------------------------------------------------------------------|\n",
    "|maker                   |normalized all lowercase|\n",
    "|model                   |normalized all lowercase|\n",
    "|mileage                 |in KM|\n",
    "|manufacture_year        |year|\n",
    "|engine_displacement     |in ccm|\n",
    "|engine_power            |in kW|\n",
    "|body_type               |almost never present, but I scraped only personal cars, no motorcycles or utility vehicles|\n",
    "|color_slug              |also almost never present|\n",
    "|stk_year                |year of the last emission control|\n",
    "|transmission            |automatic or manual|\n",
    "|door_count              |                   |\n",
    "|seat_count              |                   |\n",
    "|fuel_type               |gasoline, diesel, cng, lpg, electric|\n",
    "|date_created            |when the ad was scraped|\n",
    "|datelastseen            |when the ad was last seen. Our policy was to remove all ads older than 60 days|\n",
    "|price_eur               |list price converted to EUR|"
   ]
  },
  {
   "cell_type": "code",
   "execution_count": 5,
   "metadata": {
    "execution": {
     "iopub.execute_input": "2021-01-04T04:31:39.244202Z",
     "iopub.status.busy": "2021-01-04T04:31:39.243355Z",
     "iopub.status.idle": "2021-01-04T04:31:55.606619Z",
     "shell.execute_reply": "2021-01-04T04:31:55.607747Z"
    },
    "papermill": {
     "duration": 16.415489,
     "end_time": "2021-01-04T04:31:55.608035",
     "exception": false,
     "start_time": "2021-01-04T04:31:39.192546",
     "status": "completed"
    },
    "tags": []
   },
   "outputs": [
    {
     "data": {
      "text/html": [
       "<div>\n",
       "<style scoped>\n",
       "    .dataframe tbody tr th:only-of-type {\n",
       "        vertical-align: middle;\n",
       "    }\n",
       "\n",
       "    .dataframe tbody tr th {\n",
       "        vertical-align: top;\n",
       "    }\n",
       "\n",
       "    .dataframe thead th {\n",
       "        text-align: right;\n",
       "    }\n",
       "</style>\n",
       "<table border=\"1\" class=\"dataframe\">\n",
       "  <thead>\n",
       "    <tr style=\"text-align: right;\">\n",
       "      <th></th>\n",
       "      <th>maker</th>\n",
       "      <th>model</th>\n",
       "      <th>mileage</th>\n",
       "      <th>manufacture_year</th>\n",
       "      <th>engine_displacement</th>\n",
       "      <th>engine_power</th>\n",
       "      <th>body_type</th>\n",
       "      <th>color_slug</th>\n",
       "      <th>stk_year</th>\n",
       "      <th>transmission</th>\n",
       "      <th>door_count</th>\n",
       "      <th>seat_count</th>\n",
       "      <th>fuel_type</th>\n",
       "      <th>date_created</th>\n",
       "      <th>date_last_seen</th>\n",
       "      <th>price_eur</th>\n",
       "    </tr>\n",
       "  </thead>\n",
       "  <tbody>\n",
       "    <tr>\n",
       "      <th>0</th>\n",
       "      <td>ford</td>\n",
       "      <td>galaxy</td>\n",
       "      <td>151000.0</td>\n",
       "      <td>2011.0</td>\n",
       "      <td>2000.0</td>\n",
       "      <td>103.0</td>\n",
       "      <td>NaN</td>\n",
       "      <td>NaN</td>\n",
       "      <td>None</td>\n",
       "      <td>man</td>\n",
       "      <td>5</td>\n",
       "      <td>7</td>\n",
       "      <td>diesel</td>\n",
       "      <td>2015-11-14 18:10:06.838319+00</td>\n",
       "      <td>2016-01-27 20:40:15.46361+00</td>\n",
       "      <td>10584.75</td>\n",
       "    </tr>\n",
       "    <tr>\n",
       "      <th>1</th>\n",
       "      <td>skoda</td>\n",
       "      <td>octavia</td>\n",
       "      <td>143476.0</td>\n",
       "      <td>2012.0</td>\n",
       "      <td>2000.0</td>\n",
       "      <td>81.0</td>\n",
       "      <td>NaN</td>\n",
       "      <td>NaN</td>\n",
       "      <td>None</td>\n",
       "      <td>man</td>\n",
       "      <td>5</td>\n",
       "      <td>5</td>\n",
       "      <td>diesel</td>\n",
       "      <td>2015-11-14 18:10:06.853411+00</td>\n",
       "      <td>2016-01-27 20:40:15.46361+00</td>\n",
       "      <td>8882.31</td>\n",
       "    </tr>\n",
       "    <tr>\n",
       "      <th>2</th>\n",
       "      <td>bmw</td>\n",
       "      <td>NaN</td>\n",
       "      <td>97676.0</td>\n",
       "      <td>2010.0</td>\n",
       "      <td>1995.0</td>\n",
       "      <td>85.0</td>\n",
       "      <td>NaN</td>\n",
       "      <td>NaN</td>\n",
       "      <td>None</td>\n",
       "      <td>man</td>\n",
       "      <td>5</td>\n",
       "      <td>5</td>\n",
       "      <td>diesel</td>\n",
       "      <td>2015-11-14 18:10:06.861792+00</td>\n",
       "      <td>2016-01-27 20:40:15.46361+00</td>\n",
       "      <td>12065.06</td>\n",
       "    </tr>\n",
       "    <tr>\n",
       "      <th>3</th>\n",
       "      <td>skoda</td>\n",
       "      <td>fabia</td>\n",
       "      <td>111970.0</td>\n",
       "      <td>2004.0</td>\n",
       "      <td>1200.0</td>\n",
       "      <td>47.0</td>\n",
       "      <td>NaN</td>\n",
       "      <td>NaN</td>\n",
       "      <td>None</td>\n",
       "      <td>man</td>\n",
       "      <td>5</td>\n",
       "      <td>5</td>\n",
       "      <td>gasoline</td>\n",
       "      <td>2015-11-14 18:10:06.872313+00</td>\n",
       "      <td>2016-01-27 20:40:15.46361+00</td>\n",
       "      <td>2960.77</td>\n",
       "    </tr>\n",
       "    <tr>\n",
       "      <th>4</th>\n",
       "      <td>skoda</td>\n",
       "      <td>fabia</td>\n",
       "      <td>128886.0</td>\n",
       "      <td>2004.0</td>\n",
       "      <td>1200.0</td>\n",
       "      <td>47.0</td>\n",
       "      <td>NaN</td>\n",
       "      <td>NaN</td>\n",
       "      <td>None</td>\n",
       "      <td>man</td>\n",
       "      <td>5</td>\n",
       "      <td>5</td>\n",
       "      <td>gasoline</td>\n",
       "      <td>2015-11-14 18:10:06.880335+00</td>\n",
       "      <td>2016-01-27 20:40:15.46361+00</td>\n",
       "      <td>2738.71</td>\n",
       "    </tr>\n",
       "    <tr>\n",
       "      <th>...</th>\n",
       "      <td>...</td>\n",
       "      <td>...</td>\n",
       "      <td>...</td>\n",
       "      <td>...</td>\n",
       "      <td>...</td>\n",
       "      <td>...</td>\n",
       "      <td>...</td>\n",
       "      <td>...</td>\n",
       "      <td>...</td>\n",
       "      <td>...</td>\n",
       "      <td>...</td>\n",
       "      <td>...</td>\n",
       "      <td>...</td>\n",
       "      <td>...</td>\n",
       "      <td>...</td>\n",
       "      <td>...</td>\n",
       "    </tr>\n",
       "    <tr>\n",
       "      <th>3552907</th>\n",
       "      <td>skoda</td>\n",
       "      <td>roomster</td>\n",
       "      <td>54000.0</td>\n",
       "      <td>2013.0</td>\n",
       "      <td>1200.0</td>\n",
       "      <td>63.0</td>\n",
       "      <td>other</td>\n",
       "      <td>NaN</td>\n",
       "      <td>NaN</td>\n",
       "      <td>NaN</td>\n",
       "      <td>NaN</td>\n",
       "      <td>NaN</td>\n",
       "      <td>NaN</td>\n",
       "      <td>2017-03-16 18:57:35.46558+00</td>\n",
       "      <td>2017-03-16 18:57:35.46558+00</td>\n",
       "      <td>1295.34</td>\n",
       "    </tr>\n",
       "    <tr>\n",
       "      <th>3552908</th>\n",
       "      <td>skoda</td>\n",
       "      <td>felicia</td>\n",
       "      <td>NaN</td>\n",
       "      <td>2000.0</td>\n",
       "      <td>NaN</td>\n",
       "      <td>50.0</td>\n",
       "      <td>other</td>\n",
       "      <td>NaN</td>\n",
       "      <td>NaN</td>\n",
       "      <td>NaN</td>\n",
       "      <td>NaN</td>\n",
       "      <td>NaN</td>\n",
       "      <td>electric</td>\n",
       "      <td>2017-03-16 18:57:37.761349+00</td>\n",
       "      <td>2017-03-16 18:57:37.761349+00</td>\n",
       "      <td>1295.34</td>\n",
       "    </tr>\n",
       "    <tr>\n",
       "      <th>3552909</th>\n",
       "      <td>skoda</td>\n",
       "      <td>octavia</td>\n",
       "      <td>230000.0</td>\n",
       "      <td>2006.0</td>\n",
       "      <td>1900.0</td>\n",
       "      <td>100.0</td>\n",
       "      <td>other</td>\n",
       "      <td>NaN</td>\n",
       "      <td>NaN</td>\n",
       "      <td>NaN</td>\n",
       "      <td>NaN</td>\n",
       "      <td>NaN</td>\n",
       "      <td>NaN</td>\n",
       "      <td>2017-03-16 18:57:40.435847+00</td>\n",
       "      <td>2017-03-16 18:57:40.435847+00</td>\n",
       "      <td>1295.34</td>\n",
       "    </tr>\n",
       "    <tr>\n",
       "      <th>3552910</th>\n",
       "      <td>skoda</td>\n",
       "      <td>fabia</td>\n",
       "      <td>NaN</td>\n",
       "      <td>2001.0</td>\n",
       "      <td>NaN</td>\n",
       "      <td>NaN</td>\n",
       "      <td>other</td>\n",
       "      <td>NaN</td>\n",
       "      <td>NaN</td>\n",
       "      <td>NaN</td>\n",
       "      <td>NaN</td>\n",
       "      <td>NaN</td>\n",
       "      <td>NaN</td>\n",
       "      <td>2017-03-16 18:57:43.595523+00</td>\n",
       "      <td>2017-03-16 18:57:43.595523+00</td>\n",
       "      <td>1295.34</td>\n",
       "    </tr>\n",
       "    <tr>\n",
       "      <th>3552911</th>\n",
       "      <td>mercedes-benz</td>\n",
       "      <td>NaN</td>\n",
       "      <td>NaN</td>\n",
       "      <td>NaN</td>\n",
       "      <td>NaN</td>\n",
       "      <td>NaN</td>\n",
       "      <td>other</td>\n",
       "      <td>NaN</td>\n",
       "      <td>NaN</td>\n",
       "      <td>NaN</td>\n",
       "      <td>NaN</td>\n",
       "      <td>NaN</td>\n",
       "      <td>NaN</td>\n",
       "      <td>2017-03-16 19:22:23.946774+00</td>\n",
       "      <td>2017-03-16 19:22:23.946774+00</td>\n",
       "      <td>1295.34</td>\n",
       "    </tr>\n",
       "  </tbody>\n",
       "</table>\n",
       "<p>3552912 rows × 16 columns</p>\n",
       "</div>"
      ],
      "text/plain": [
       "                 maker     model   mileage  manufacture_year  \\\n",
       "0                 ford    galaxy  151000.0            2011.0   \n",
       "1                skoda   octavia  143476.0            2012.0   \n",
       "2                  bmw       NaN   97676.0            2010.0   \n",
       "3                skoda     fabia  111970.0            2004.0   \n",
       "4                skoda     fabia  128886.0            2004.0   \n",
       "...                ...       ...       ...               ...   \n",
       "3552907          skoda  roomster   54000.0            2013.0   \n",
       "3552908          skoda   felicia       NaN            2000.0   \n",
       "3552909          skoda   octavia  230000.0            2006.0   \n",
       "3552910          skoda     fabia       NaN            2001.0   \n",
       "3552911  mercedes-benz       NaN       NaN               NaN   \n",
       "\n",
       "         engine_displacement  engine_power body_type color_slug stk_year  \\\n",
       "0                     2000.0         103.0       NaN        NaN     None   \n",
       "1                     2000.0          81.0       NaN        NaN     None   \n",
       "2                     1995.0          85.0       NaN        NaN     None   \n",
       "3                     1200.0          47.0       NaN        NaN     None   \n",
       "4                     1200.0          47.0       NaN        NaN     None   \n",
       "...                      ...           ...       ...        ...      ...   \n",
       "3552907               1200.0          63.0     other        NaN      NaN   \n",
       "3552908                  NaN          50.0     other        NaN      NaN   \n",
       "3552909               1900.0         100.0     other        NaN      NaN   \n",
       "3552910                  NaN           NaN     other        NaN      NaN   \n",
       "3552911                  NaN           NaN     other        NaN      NaN   \n",
       "\n",
       "        transmission door_count seat_count fuel_type  \\\n",
       "0                man          5          7    diesel   \n",
       "1                man          5          5    diesel   \n",
       "2                man          5          5    diesel   \n",
       "3                man          5          5  gasoline   \n",
       "4                man          5          5  gasoline   \n",
       "...              ...        ...        ...       ...   \n",
       "3552907          NaN        NaN        NaN       NaN   \n",
       "3552908          NaN        NaN        NaN  electric   \n",
       "3552909          NaN        NaN        NaN       NaN   \n",
       "3552910          NaN        NaN        NaN       NaN   \n",
       "3552911          NaN        NaN        NaN       NaN   \n",
       "\n",
       "                          date_created                 date_last_seen  \\\n",
       "0        2015-11-14 18:10:06.838319+00   2016-01-27 20:40:15.46361+00   \n",
       "1        2015-11-14 18:10:06.853411+00   2016-01-27 20:40:15.46361+00   \n",
       "2        2015-11-14 18:10:06.861792+00   2016-01-27 20:40:15.46361+00   \n",
       "3        2015-11-14 18:10:06.872313+00   2016-01-27 20:40:15.46361+00   \n",
       "4        2015-11-14 18:10:06.880335+00   2016-01-27 20:40:15.46361+00   \n",
       "...                                ...                            ...   \n",
       "3552907   2017-03-16 18:57:35.46558+00   2017-03-16 18:57:35.46558+00   \n",
       "3552908  2017-03-16 18:57:37.761349+00  2017-03-16 18:57:37.761349+00   \n",
       "3552909  2017-03-16 18:57:40.435847+00  2017-03-16 18:57:40.435847+00   \n",
       "3552910  2017-03-16 18:57:43.595523+00  2017-03-16 18:57:43.595523+00   \n",
       "3552911  2017-03-16 19:22:23.946774+00  2017-03-16 19:22:23.946774+00   \n",
       "\n",
       "         price_eur  \n",
       "0         10584.75  \n",
       "1          8882.31  \n",
       "2         12065.06  \n",
       "3          2960.77  \n",
       "4          2738.71  \n",
       "...            ...  \n",
       "3552907    1295.34  \n",
       "3552908    1295.34  \n",
       "3552909    1295.34  \n",
       "3552910    1295.34  \n",
       "3552911    1295.34  \n",
       "\n",
       "[3552912 rows x 16 columns]"
      ]
     },
     "execution_count": 5,
     "metadata": {},
     "output_type": "execute_result"
    }
   ],
   "source": [
    "datatype={\n",
    "    'maker':str,\n",
    "    'model':str, \n",
    "    'mileage':float, \n",
    "    'manufacture_year':float, \n",
    "    'engine_displacement':float,\n",
    "    'engine_power':float, \n",
    "    'body_type':str, #almost never present\n",
    "    'color_slug':str, #almost never present\n",
    "    'stk_year':str, \n",
    "    'transmission':str,\n",
    "    'door_count':str,\n",
    "    'seat_count':str, \n",
    "    'fuel_type':str,\n",
    "    'date_created':str, #ads scrap\n",
    "    'date_last_seen':str,#ads last seen\n",
    "    'price_eur':float #price in euro\n",
    "    \n",
    "}\n",
    "df=pd.read_csv(data_dir,dtype=datatype)\n",
    "df"
   ]
  },
  {
   "cell_type": "code",
   "execution_count": 6,
   "metadata": {
    "execution": {
     "iopub.execute_input": "2021-01-04T04:31:55.756720Z",
     "iopub.status.busy": "2021-01-04T04:31:55.755931Z",
     "iopub.status.idle": "2021-01-04T04:31:56.485699Z",
     "shell.execute_reply": "2021-01-04T04:31:56.486273Z"
    },
    "papermill": {
     "duration": 0.830709,
     "end_time": "2021-01-04T04:31:56.486451",
     "exception": false,
     "start_time": "2021-01-04T04:31:55.655742",
     "status": "completed"
    },
    "tags": []
   },
   "outputs": [
    {
     "data": {
      "text/html": [
       "<div>\n",
       "<style scoped>\n",
       "    .dataframe tbody tr th:only-of-type {\n",
       "        vertical-align: middle;\n",
       "    }\n",
       "\n",
       "    .dataframe tbody tr th {\n",
       "        vertical-align: top;\n",
       "    }\n",
       "\n",
       "    .dataframe thead th {\n",
       "        text-align: right;\n",
       "    }\n",
       "</style>\n",
       "<table border=\"1\" class=\"dataframe\">\n",
       "  <thead>\n",
       "    <tr style=\"text-align: right;\">\n",
       "      <th></th>\n",
       "      <th>mileage</th>\n",
       "      <th>manufacture_year</th>\n",
       "      <th>engine_displacement</th>\n",
       "      <th>engine_power</th>\n",
       "      <th>price_eur</th>\n",
       "    </tr>\n",
       "  </thead>\n",
       "  <tbody>\n",
       "    <tr>\n",
       "      <th>count</th>\n",
       "      <td>3190328.0</td>\n",
       "      <td>3182334.0</td>\n",
       "      <td>2809498.0</td>\n",
       "      <td>2998035.0</td>\n",
       "      <td>3552912.0</td>\n",
       "    </tr>\n",
       "    <tr>\n",
       "      <th>mean</th>\n",
       "      <td>115814.00227218017</td>\n",
       "      <td>2000.8712130781998</td>\n",
       "      <td>2043.9577486796575</td>\n",
       "      <td>98.46796051413676</td>\n",
       "      <td>1625811.8688690742</td>\n",
       "    </tr>\n",
       "    <tr>\n",
       "      <th>std</th>\n",
       "      <td>342250.76704671263</td>\n",
       "      <td>81.72587528733025</td>\n",
       "      <td>1973.9577412984127</td>\n",
       "      <td>49.0730869593781</td>\n",
       "      <td>2025621942.6064575</td>\n",
       "    </tr>\n",
       "    <tr>\n",
       "      <th>min</th>\n",
       "      <td>0.0</td>\n",
       "      <td>0.0</td>\n",
       "      <td>0.0</td>\n",
       "      <td>1.0</td>\n",
       "      <td>0.04</td>\n",
       "    </tr>\n",
       "    <tr>\n",
       "      <th>25%</th>\n",
       "      <td>18800.0</td>\n",
       "      <td>2004.0</td>\n",
       "      <td>1400.0</td>\n",
       "      <td>68.0</td>\n",
       "      <td>1295.34</td>\n",
       "    </tr>\n",
       "    <tr>\n",
       "      <th>50%</th>\n",
       "      <td>86415.0</td>\n",
       "      <td>2009.0</td>\n",
       "      <td>1798.0</td>\n",
       "      <td>86.0</td>\n",
       "      <td>7364.91</td>\n",
       "    </tr>\n",
       "    <tr>\n",
       "      <th>75%</th>\n",
       "      <td>158025.0</td>\n",
       "      <td>2013.0</td>\n",
       "      <td>1997.0</td>\n",
       "      <td>110.0</td>\n",
       "      <td>16284.23</td>\n",
       "    </tr>\n",
       "    <tr>\n",
       "      <th>max</th>\n",
       "      <td>9999999.0</td>\n",
       "      <td>2017.0</td>\n",
       "      <td>32767.0</td>\n",
       "      <td>2237.0</td>\n",
       "      <td>2706149053064.4</td>\n",
       "    </tr>\n",
       "  </tbody>\n",
       "</table>\n",
       "</div>"
      ],
      "text/plain": [
       "                  mileage    manufacture_year engine_displacement  \\\n",
       "count           3190328.0           3182334.0           2809498.0   \n",
       "mean   115814.00227218017  2000.8712130781998  2043.9577486796575   \n",
       "std    342250.76704671263   81.72587528733025  1973.9577412984127   \n",
       "min                   0.0                 0.0                 0.0   \n",
       "25%               18800.0              2004.0              1400.0   \n",
       "50%               86415.0              2009.0              1798.0   \n",
       "75%              158025.0              2013.0              1997.0   \n",
       "max             9999999.0              2017.0             32767.0   \n",
       "\n",
       "            engine_power           price_eur  \n",
       "count          2998035.0           3552912.0  \n",
       "mean   98.46796051413676  1625811.8688690742  \n",
       "std     49.0730869593781  2025621942.6064575  \n",
       "min                  1.0                0.04  \n",
       "25%                 68.0             1295.34  \n",
       "50%                 86.0             7364.91  \n",
       "75%                110.0            16284.23  \n",
       "max               2237.0     2706149053064.4  "
      ]
     },
     "execution_count": 6,
     "metadata": {},
     "output_type": "execute_result"
    }
   ],
   "source": [
    "df.describe().apply(lambda x: x.apply(lambda x:format(x)))"
   ]
  },
  {
   "cell_type": "markdown",
   "metadata": {
    "papermill": {
     "duration": 0.040477,
     "end_time": "2021-01-04T04:31:56.567897",
     "exception": false,
     "start_time": "2021-01-04T04:31:56.527420",
     "status": "completed"
    },
    "tags": []
   },
   "source": [
    "Let's see the missing values counts"
   ]
  },
  {
   "cell_type": "code",
   "execution_count": 7,
   "metadata": {
    "execution": {
     "iopub.execute_input": "2021-01-04T04:31:56.655600Z",
     "iopub.status.busy": "2021-01-04T04:31:56.654715Z",
     "iopub.status.idle": "2021-01-04T04:32:00.269882Z",
     "shell.execute_reply": "2021-01-04T04:32:00.269018Z"
    },
    "papermill": {
     "duration": 3.660648,
     "end_time": "2021-01-04T04:32:00.270050",
     "exception": false,
     "start_time": "2021-01-04T04:31:56.609402",
     "status": "completed"
    },
    "tags": []
   },
   "outputs": [
    {
     "data": {
      "text/plain": [
       "maker                   518915\n",
       "model                  1133361\n",
       "mileage                 362584\n",
       "manufacture_year        370578\n",
       "engine_displacement     743414\n",
       "engine_power            554877\n",
       "body_type              1122914\n",
       "color_slug             3343411\n",
       "stk_year               1708156\n",
       "transmission            741630\n",
       "door_count              614373\n",
       "seat_count              749489\n",
       "fuel_type              1847606\n",
       "date_created                 0\n",
       "date_last_seen               0\n",
       "price_eur                    0\n",
       "dtype: int64"
      ]
     },
     "execution_count": 7,
     "metadata": {},
     "output_type": "execute_result"
    }
   ],
   "source": [
    "df.isna().sum()"
   ]
  },
  {
   "cell_type": "markdown",
   "metadata": {
    "papermill": {
     "duration": 0.040707,
     "end_time": "2021-01-04T04:32:00.352611",
     "exception": false,
     "start_time": "2021-01-04T04:32:00.311904",
     "status": "completed"
    },
    "tags": []
   },
   "source": [
    "\n",
    "\n",
    "We can see lots of missing values are there also. We will follow some technique for handling these values. We we go througth each column."
   ]
  },
  {
   "cell_type": "code",
   "execution_count": 8,
   "metadata": {
    "execution": {
     "iopub.execute_input": "2021-01-04T04:32:00.442172Z",
     "iopub.status.busy": "2021-01-04T04:32:00.441307Z",
     "iopub.status.idle": "2021-01-04T04:32:00.582437Z",
     "shell.execute_reply": "2021-01-04T04:32:00.581764Z"
    },
    "papermill": {
     "duration": 0.188492,
     "end_time": "2021-01-04T04:32:00.582572",
     "exception": false,
     "start_time": "2021-01-04T04:32:00.394080",
     "status": "completed"
    },
    "tags": []
   },
   "outputs": [
    {
     "data": {
      "text/plain": [
       "0.0         162393\n",
       "10.0        107072\n",
       "1.0          34690\n",
       "100.0        25844\n",
       "5.0          21051\n",
       "             ...  \n",
       "243886.0         1\n",
       "243887.0         1\n",
       "243889.0         1\n",
       "243892.0         1\n",
       "276889.0         1\n",
       "Name: mileage, Length: 248142, dtype: int64"
      ]
     },
     "execution_count": 8,
     "metadata": {},
     "output_type": "execute_result"
    }
   ],
   "source": [
    "df['mileage'].value_counts()"
   ]
  },
  {
   "cell_type": "code",
   "execution_count": 9,
   "metadata": {
    "execution": {
     "iopub.execute_input": "2021-01-04T04:32:00.672725Z",
     "iopub.status.busy": "2021-01-04T04:32:00.671781Z",
     "iopub.status.idle": "2021-01-04T04:32:00.783749Z",
     "shell.execute_reply": "2021-01-04T04:32:00.782929Z"
    },
    "papermill": {
     "duration": 0.15965,
     "end_time": "2021-01-04T04:32:00.783884",
     "exception": false,
     "start_time": "2021-01-04T04:32:00.624234",
     "status": "completed"
    },
    "tags": []
   },
   "outputs": [
    {
     "data": {
      "text/plain": [
       "1295.34     673623\n",
       "9900.00       6609\n",
       "10900.00      6497\n",
       "12900.00      6274\n",
       "11900.00      6169\n",
       "             ...  \n",
       "19978.76         1\n",
       "10202.07         1\n",
       "18884.72         1\n",
       "31003.00         1\n",
       "21798.45         1\n",
       "Name: price_eur, Length: 227305, dtype: int64"
      ]
     },
     "execution_count": 9,
     "metadata": {},
     "output_type": "execute_result"
    }
   ],
   "source": [
    "df[\"price_eur\"].value_counts()"
   ]
  },
  {
   "cell_type": "markdown",
   "metadata": {
    "papermill": {
     "duration": 0.042035,
     "end_time": "2021-01-04T04:32:00.868507",
     "exception": false,
     "start_time": "2021-01-04T04:32:00.826472",
     "status": "completed"
    },
    "tags": []
   },
   "source": [
    "There are 673623 instances of price_eur where the value is exactly equal to 1295.34!"
   ]
  },
  {
   "cell_type": "markdown",
   "metadata": {
    "papermill": {
     "duration": 0.042836,
     "end_time": "2021-01-04T04:32:00.953733",
     "exception": false,
     "start_time": "2021-01-04T04:32:00.910897",
     "status": "completed"
    },
    "tags": []
   },
   "source": [
    "Some are really unusual data. A car with an engine power of 32k or 1 doesn't make much sense or like a car with 1 million mileage, a price of a few cents, etc"
   ]
  },
  {
   "cell_type": "code",
   "execution_count": 10,
   "metadata": {
    "execution": {
     "iopub.execute_input": "2021-01-04T04:32:01.048765Z",
     "iopub.status.busy": "2021-01-04T04:32:01.047923Z",
     "iopub.status.idle": "2021-01-04T04:32:05.514310Z",
     "shell.execute_reply": "2021-01-04T04:32:05.513455Z"
    },
    "papermill": {
     "duration": 4.51767,
     "end_time": "2021-01-04T04:32:05.514440",
     "exception": false,
     "start_time": "2021-01-04T04:32:00.996770",
     "status": "completed"
    },
    "tags": []
   },
   "outputs": [
    {
     "name": "stdout",
     "output_type": "stream",
     "text": [
      "****************************************************************************************************\n",
      "Column:  maker ['ford' 'skoda' 'bmw' nan 'suzuki' 'nissan' 'opel' 'citroen' 'seat' 'kia'\n",
      " 'audi' 'rover' 'toyota' 'hyundai' 'fiat' 'volvo' 'chevrolet' 'mazda'\n",
      " 'jeep' 'mercedes-benz' 'subaru' 'chrysler' 'lancia' 'smart' 'honda'\n",
      " 'porsche' 'dodge' 'mitsubishi' 'mini' 'jaguar' 'lexus' 'hummer' 'bentley'\n",
      " 'tesla' 'maserati' 'isuzu' 'lamborghini' 'lotus' 'volkswagen' 'peugeot'\n",
      " 'renault' 'alfa-romeo' 'infinity' 'rolls-royce' 'aston-martin']\n",
      "****************************************************************************************************\n",
      "Column:  seat_count ['7' '5' '4' 'None' '6' '9' '8' '2' '3' '1' '18' '20' '10' '11' '15' '12'\n",
      " '16' '14' '50' '17' '74' '65' '19' '54' '13' '27' '45' '24' '56' '22'\n",
      " '255' '23' '57' '25' nan '51' '55' '61' '21' '53' '26' '58' '30' '36' '0']\n",
      "****************************************************************************************************\n",
      "Column:  door_count ['5' '3' '4' 'None' '2' '6' '1' '7' nan '9' '8' '77' '58' '54' '0']\n",
      "****************************************************************************************************\n",
      "Column:  stk_year ['None' '2017' '2016' '2015' '2018' '2107' '3000' '6800' '7900' '9500'\n",
      " '7990' '7732' '7201' '5900' '7761' '2019' '2500' '7762' '7257' '2680'\n",
      " '3600' '7375' '4000' '2100' '7765' '2101' '8000' '8200' '4500' '9000'\n",
      " '2200' '2280' '5500' '2250' '3200' '2071' '7000' '2600' '6000' '2510'\n",
      " '2295' '5000' '2020' '7500' '3300' '3900' '6500' '2900' '7399' '5800'\n",
      " '5300' '7800' '4300' '6300' '6083' '6086' '5990' '4900' '2240' '3800'\n",
      " '2117' '8500' '2734' '6037' '6201' '4700' '6016' '3500' '2470' '2990'\n",
      " '5200' '9990' '2040' '2300' '5017' '7366' '8990' '6990' '4990' '7325'\n",
      " '7221' '3700' '2999' '3103' '2508' '7770' '2800' '8900' '2150' '9700'\n",
      " '9900' '2400' '2116' '6900' '7743' '2480' '2021' '7746' '2650' '9325'\n",
      " '2023' '5700' '4400' '6999' '7289' '9200' '3080' nan '3017' '2235' '2201'\n",
      " '3380' '2518' '7217' '2050' '5100' '6049' '6045' '2350' '7367' '7314'\n",
      " '7300' '8800' '2890' '2070' '2075' '4390' '2211' '2670' '2060' '2080'\n",
      " '2108' '8490' '3150' '5015' '8201' '5490' '2290']\n",
      "****************************************************************************************************\n",
      "Column:  transmission ['man' 'auto' nan]\n",
      "****************************************************************************************************\n",
      "Column:  fuel_type ['diesel' 'gasoline' nan]\n"
     ]
    }
   ],
   "source": [
    "df = df[df[\"price_eur\"] != 1295.34]\n",
    "df = df[df[\"price_eur\"] >= 150]\n",
    "\n",
    "\n",
    "df1 = df.select_dtypes(exclude=['int', 'float'])\n",
    "df1 = df1[['maker','seat_count', 'door_count', 'stk_year','transmission', 'fuel_type']]\n",
    "for column in df1.columns:\n",
    "    print(\"*\"*100)\n",
    "    print(\"Column: \", column, df1[column].unique())\n",
    "    \n"
   ]
  },
  {
   "cell_type": "markdown",
   "metadata": {
    "papermill": {
     "duration": 0.045396,
     "end_time": "2021-01-04T04:32:05.605747",
     "exception": false,
     "start_time": "2021-01-04T04:32:05.560351",
     "status": "completed"
    },
    "tags": []
   },
   "source": [
    "# Some feature engineering"
   ]
  },
  {
   "cell_type": "markdown",
   "metadata": {
    "papermill": {
     "duration": 0.044863,
     "end_time": "2021-01-04T04:32:05.695223",
     "exception": false,
     "start_time": "2021-01-04T04:32:05.650360",
     "status": "completed"
    },
    "tags": []
   },
   "source": [
    "# 1. Manufaturing year"
   ]
  },
  {
   "cell_type": "code",
   "execution_count": 11,
   "metadata": {
    "execution": {
     "iopub.execute_input": "2021-01-04T04:32:05.794814Z",
     "iopub.status.busy": "2021-01-04T04:32:05.793880Z",
     "iopub.status.idle": "2021-01-04T04:32:08.687890Z",
     "shell.execute_reply": "2021-01-04T04:32:08.688489Z"
    },
    "papermill": {
     "duration": 2.946954,
     "end_time": "2021-01-04T04:32:08.688658",
     "exception": false,
     "start_time": "2021-01-04T04:32:05.741704",
     "status": "completed"
    },
    "tags": []
   },
   "outputs": [
    {
     "data": {
      "text/html": [
       "<div>\n",
       "<style scoped>\n",
       "    .dataframe tbody tr th:only-of-type {\n",
       "        vertical-align: middle;\n",
       "    }\n",
       "\n",
       "    .dataframe tbody tr th {\n",
       "        vertical-align: top;\n",
       "    }\n",
       "\n",
       "    .dataframe thead th {\n",
       "        text-align: right;\n",
       "    }\n",
       "</style>\n",
       "<table border=\"1\" class=\"dataframe\">\n",
       "  <thead>\n",
       "    <tr style=\"text-align: right;\">\n",
       "      <th></th>\n",
       "      <th>maker</th>\n",
       "      <th>model</th>\n",
       "      <th>avg_manufacture_year</th>\n",
       "    </tr>\n",
       "  </thead>\n",
       "  <tbody>\n",
       "    <tr>\n",
       "      <th>0</th>\n",
       "      <td>alfa-romeo</td>\n",
       "      <td>145</td>\n",
       "      <td>1999.0</td>\n",
       "    </tr>\n",
       "    <tr>\n",
       "      <th>1</th>\n",
       "      <td>alfa-romeo</td>\n",
       "      <td>146</td>\n",
       "      <td>1998.0</td>\n",
       "    </tr>\n",
       "    <tr>\n",
       "      <th>2</th>\n",
       "      <td>alfa-romeo</td>\n",
       "      <td>147</td>\n",
       "      <td>2004.0</td>\n",
       "    </tr>\n",
       "    <tr>\n",
       "      <th>3</th>\n",
       "      <td>alfa-romeo</td>\n",
       "      <td>155</td>\n",
       "      <td>1997.0</td>\n",
       "    </tr>\n",
       "    <tr>\n",
       "      <th>4</th>\n",
       "      <td>alfa-romeo</td>\n",
       "      <td>156</td>\n",
       "      <td>2002.0</td>\n",
       "    </tr>\n",
       "    <tr>\n",
       "      <th>...</th>\n",
       "      <td>...</td>\n",
       "      <td>...</td>\n",
       "      <td>...</td>\n",
       "    </tr>\n",
       "    <tr>\n",
       "      <th>814</th>\n",
       "      <td>volvo</td>\n",
       "      <td>v70</td>\n",
       "      <td>2007.0</td>\n",
       "    </tr>\n",
       "    <tr>\n",
       "      <th>815</th>\n",
       "      <td>volvo</td>\n",
       "      <td>v90</td>\n",
       "      <td>1997.0</td>\n",
       "    </tr>\n",
       "    <tr>\n",
       "      <th>816</th>\n",
       "      <td>volvo</td>\n",
       "      <td>xc60</td>\n",
       "      <td>2013.0</td>\n",
       "    </tr>\n",
       "    <tr>\n",
       "      <th>817</th>\n",
       "      <td>volvo</td>\n",
       "      <td>xc70</td>\n",
       "      <td>2009.0</td>\n",
       "    </tr>\n",
       "    <tr>\n",
       "      <th>818</th>\n",
       "      <td>volvo</td>\n",
       "      <td>xc90</td>\n",
       "      <td>2010.0</td>\n",
       "    </tr>\n",
       "  </tbody>\n",
       "</table>\n",
       "<p>819 rows × 3 columns</p>\n",
       "</div>"
      ],
      "text/plain": [
       "          maker model  avg_manufacture_year\n",
       "0    alfa-romeo   145                1999.0\n",
       "1    alfa-romeo   146                1998.0\n",
       "2    alfa-romeo   147                2004.0\n",
       "3    alfa-romeo   155                1997.0\n",
       "4    alfa-romeo   156                2002.0\n",
       "..          ...   ...                   ...\n",
       "814       volvo   v70                2007.0\n",
       "815       volvo   v90                1997.0\n",
       "816       volvo  xc60                2013.0\n",
       "817       volvo  xc70                2009.0\n",
       "818       volvo  xc90                2010.0\n",
       "\n",
       "[819 rows x 3 columns]"
      ]
     },
     "execution_count": 11,
     "metadata": {},
     "output_type": "execute_result"
    }
   ],
   "source": [
    "new_df=df.reset_index(drop=True).copy()\n",
    "#threshold value, lower value will be replaced by average value. \n",
    "min_year=1960\n",
    "avg_manufacture_year=new_df.loc[new_df[\"manufacture_year\"]>=min_year].groupby(['maker', 'model'])['manufacture_year'].mean().round().rename('avg_manufacture_year').reset_index()\n",
    "avg_manufacture_year"
   ]
  },
  {
   "cell_type": "code",
   "execution_count": 12,
   "metadata": {
    "execution": {
     "iopub.execute_input": "2021-01-04T04:32:09.131376Z",
     "iopub.status.busy": "2021-01-04T04:32:09.130144Z",
     "iopub.status.idle": "2021-01-04T04:32:14.439535Z",
     "shell.execute_reply": "2021-01-04T04:32:14.438743Z"
    },
    "papermill": {
     "duration": 5.701988,
     "end_time": "2021-01-04T04:32:14.439676",
     "exception": false,
     "start_time": "2021-01-04T04:32:08.737688",
     "status": "completed"
    },
    "tags": []
   },
   "outputs": [],
   "source": [
    "df_filtered=new_df.merge(avg_manufacture_year, on=['maker','model'], how='left')\n",
    "df_filtered.loc[new_df['manufacture_year'] < min_year,'manufacture_year']=np.nan\n",
    "df_filtered['manufacture_year']=df_filtered['manufacture_year'].fillna(df_filtered['avg_manufacture_year'])\n",
    "df_filtered = df_filtered[df_filtered['manufacture_year'].notna()].reset_index(drop=True)"
   ]
  },
  {
   "cell_type": "markdown",
   "metadata": {
    "papermill": {
     "duration": 0.045481,
     "end_time": "2021-01-04T04:32:14.530754",
     "exception": false,
     "start_time": "2021-01-04T04:32:14.485273",
     "status": "completed"
    },
    "tags": []
   },
   "source": [
    "# 2. Engine Power "
   ]
  },
  {
   "cell_type": "code",
   "execution_count": 13,
   "metadata": {
    "execution": {
     "iopub.execute_input": "2021-01-04T04:32:14.634455Z",
     "iopub.status.busy": "2021-01-04T04:32:14.633679Z",
     "iopub.status.idle": "2021-01-04T04:32:22.112314Z",
     "shell.execute_reply": "2021-01-04T04:32:22.111424Z"
    },
    "papermill": {
     "duration": 7.536384,
     "end_time": "2021-01-04T04:32:22.112448",
     "exception": false,
     "start_time": "2021-01-04T04:32:14.576064",
     "status": "completed"
    },
    "tags": []
   },
   "outputs": [],
   "source": [
    "min_engine_power = 50\n",
    "average = df_filtered.loc[df_filtered[\"engine_power\"] >= min_engine_power].groupby([\"maker\", \"model\", \"manufacture_year\"])[\"engine_power\"].mean().round().rename(\"avg_engine_power\").reset_index()\n",
    "\n",
    "df_filtered2 = df_filtered.merge(average, how=\"left\", on=[\"maker\", \"model\", \"manufacture_year\"])\n",
    "df_filtered2.loc[df_filtered[\"engine_power\"] < min_engine_power, \"engine_power\"] = np.nan\n",
    "df_filtered2[\"engine_power\"] = df_filtered2[\"engine_power\"].fillna(df_filtered2[\"avg_engine_power\"])\n",
    "df_filtered2 = df_filtered2[df_filtered2['engine_power'].notna()].reset_index(drop=True)\n"
   ]
  },
  {
   "cell_type": "markdown",
   "metadata": {
    "papermill": {
     "duration": 0.044887,
     "end_time": "2021-01-04T04:32:22.202573",
     "exception": false,
     "start_time": "2021-01-04T04:32:22.157686",
     "status": "completed"
    },
    "tags": []
   },
   "source": [
    "# 3. Engine_displacement"
   ]
  },
  {
   "cell_type": "code",
   "execution_count": 14,
   "metadata": {
    "execution": {
     "iopub.execute_input": "2021-01-04T04:32:22.305346Z",
     "iopub.status.busy": "2021-01-04T04:32:22.304539Z",
     "iopub.status.idle": "2021-01-04T04:32:28.706331Z",
     "shell.execute_reply": "2021-01-04T04:32:28.705516Z"
    },
    "papermill": {
     "duration": 6.458657,
     "end_time": "2021-01-04T04:32:28.706479",
     "exception": false,
     "start_time": "2021-01-04T04:32:22.247822",
     "status": "completed"
    },
    "tags": []
   },
   "outputs": [],
   "source": [
    "min_engine_displacement = 600\n",
    "average = df_filtered2.loc[df_filtered2[\"engine_displacement\"] >= min_engine_displacement].groupby([\"maker\", \"model\"])[\"engine_displacement\"].mean().round().rename(\"avg_engine_displacement\").reset_index()\n",
    "\n",
    "df_filtered3 = df_filtered2.merge(average, how=\"left\", on=[\"maker\", \"model\"])\n",
    "df_filtered3.loc[df_filtered2[\"engine_displacement\"] < min_engine_displacement, \"engine_displacement\"] = np.nan\n",
    "df_filtered3[\"engine_displacement\"] = df_filtered3[\"engine_displacement\"].fillna(df_filtered3[\"avg_engine_displacement\"])\n",
    "df_filtered3 = df_filtered3[df_filtered3['engine_displacement'].notna()].reset_index(drop=True)"
   ]
  },
  {
   "cell_type": "markdown",
   "metadata": {
    "papermill": {
     "duration": 0.04615,
     "end_time": "2021-01-04T04:32:28.798939",
     "exception": false,
     "start_time": "2021-01-04T04:32:28.752789",
     "status": "completed"
    },
    "tags": []
   },
   "source": [
    "# 4. Mileage"
   ]
  },
  {
   "cell_type": "code",
   "execution_count": 15,
   "metadata": {
    "execution": {
     "iopub.execute_input": "2021-01-04T04:32:28.899482Z",
     "iopub.status.busy": "2021-01-04T04:32:28.898633Z",
     "iopub.status.idle": "2021-01-04T04:32:31.520925Z",
     "shell.execute_reply": "2021-01-04T04:32:31.521568Z"
    },
    "papermill": {
     "duration": 2.676935,
     "end_time": "2021-01-04T04:32:31.521764",
     "exception": false,
     "start_time": "2021-01-04T04:32:28.844829",
     "status": "completed"
    },
    "tags": []
   },
   "outputs": [],
   "source": [
    "# Mileage\n",
    "average = df_filtered3.groupby([\"manufacture_year\"])[\"mileage\"].mean().round().rename(\"avg_mileage\").reset_index()\n",
    "\n",
    "df_filtered4 = df_filtered3.merge(average, how=\"left\", on=[\"manufacture_year\"]) \n",
    "df_filtered4[\"mileage\"] = df_filtered4[\"mileage\"].fillna(df_filtered4[\"avg_mileage\"]).reset_index(drop=True) "
   ]
  },
  {
   "cell_type": "markdown",
   "metadata": {
    "papermill": {
     "duration": 0.045216,
     "end_time": "2021-01-04T04:32:31.613334",
     "exception": false,
     "start_time": "2021-01-04T04:32:31.568118",
     "status": "completed"
    },
    "tags": []
   },
   "source": [
    "# 5. Fuel type"
   ]
  },
  {
   "cell_type": "code",
   "execution_count": 16,
   "metadata": {
    "execution": {
     "iopub.execute_input": "2021-01-04T04:32:31.899118Z",
     "iopub.status.busy": "2021-01-04T04:32:31.898279Z",
     "iopub.status.idle": "2021-01-04T04:32:41.656166Z",
     "shell.execute_reply": "2021-01-04T04:32:41.655264Z"
    },
    "papermill": {
     "duration": 9.997598,
     "end_time": "2021-01-04T04:32:41.656318",
     "exception": false,
     "start_time": "2021-01-04T04:32:31.658720",
     "status": "completed"
    },
    "tags": []
   },
   "outputs": [],
   "source": [
    "average = df_filtered4.loc[df_filtered4[\"fuel_type\"].notna()].groupby([\"maker\",\"model\"])[\"fuel_type\"].agg(lambda x:x.value_counts().index[0]).rename(\"mode_fuel_type\").reset_index() \n",
    "\n",
    "df_filtered5 = df_filtered4.merge(average, how=\"left\", on=[\"maker\",\"model\"]) \n",
    "# fill nan values with the mode of fuel_type\n",
    "df_filtered5[\"fuel_type\"] = df_filtered5[\"fuel_type\"].fillna(df_filtered5[\"mode_fuel_type\"])\n",
    "# delete of those rows that have not fuel_type valorized yet\n",
    "df_filtered5 = df_filtered5[df_filtered5['fuel_type'].notna()].reset_index(drop=True) \n",
    "# get dummies variables of this categorical feature \n",
    "df_filtered5 = pd.get_dummies(df_filtered5,columns=[\"fuel_type\"]) \n",
    "df_cleaned = df_filtered5.copy()"
   ]
  },
  {
   "cell_type": "markdown",
   "metadata": {
    "papermill": {
     "duration": 0.050672,
     "end_time": "2021-01-04T04:32:41.756627",
     "exception": false,
     "start_time": "2021-01-04T04:32:41.705955",
     "status": "completed"
    },
    "tags": []
   },
   "source": [
    "# 6. Ads Duration"
   ]
  },
  {
   "cell_type": "code",
   "execution_count": 17,
   "metadata": {
    "execution": {
     "iopub.execute_input": "2021-01-04T04:32:41.873112Z",
     "iopub.status.busy": "2021-01-04T04:32:41.867727Z",
     "iopub.status.idle": "2021-01-04T04:32:49.726254Z",
     "shell.execute_reply": "2021-01-04T04:32:49.725515Z"
    },
    "papermill": {
     "duration": 7.919331,
     "end_time": "2021-01-04T04:32:49.726385",
     "exception": false,
     "start_time": "2021-01-04T04:32:41.807054",
     "status": "completed"
    },
    "tags": []
   },
   "outputs": [],
   "source": [
    "df_cleaned['date_created'] = pd.to_datetime(df_cleaned['date_created']).dt.normalize()\n",
    "df_cleaned['date_last_seen'] = pd.to_datetime(df_cleaned['date_last_seen']).dt.normalize()\n",
    "# new feature: how much last the ad\n",
    "df_cleaned['ad_duration'] = (df_cleaned['date_last_seen'] - df_cleaned['date_created']).dt.days "
   ]
  },
  {
   "cell_type": "markdown",
   "metadata": {
    "papermill": {
     "duration": 0.04955,
     "end_time": "2021-01-04T04:32:49.823025",
     "exception": false,
     "start_time": "2021-01-04T04:32:49.773475",
     "status": "completed"
    },
    "tags": []
   },
   "source": [
    "# 7. seat counts"
   ]
  },
  {
   "cell_type": "code",
   "execution_count": 18,
   "metadata": {
    "execution": {
     "iopub.execute_input": "2021-01-04T04:32:51.954252Z",
     "iopub.status.busy": "2021-01-04T04:32:49.928279Z",
     "iopub.status.idle": "2021-01-04T04:32:55.401766Z",
     "shell.execute_reply": "2021-01-04T04:32:55.401109Z"
    },
    "papermill": {
     "duration": 5.531868,
     "end_time": "2021-01-04T04:32:55.401912",
     "exception": false,
     "start_time": "2021-01-04T04:32:49.870044",
     "status": "completed"
    },
    "tags": []
   },
   "outputs": [],
   "source": [
    "features_to_fillna = [\"seat_count\"]\n",
    "for feature in features_to_fillna:\n",
    "    df_cleaned[feature] = pd.to_numeric(df_cleaned[feature], errors=\"coerce\") # transform to numeric\n",
    "    replace_with = df_cleaned[feature].median()                       # deduction of the median\n",
    "    df_cleaned[feature].fillna(replace_with,inplace=True)             # replace null\n",
    "    \n",
    "df_cleaned[\"seat_str\"] = np.select(\n",
    "    condlist=[\n",
    "        (df_cleaned[\"seat_count\"] >= 0) & (df_cleaned[\"seat_count\"] < 4),\n",
    "        (df_cleaned[\"seat_count\"] >= 4) & (df_cleaned[\"seat_count\"] < 6),\n",
    "        (df_cleaned[\"seat_count\"] >= 6)],\n",
    "    choicelist=[\n",
    "        \"small\",\n",
    "        \"medium\",\n",
    "        \"large\",\n",
    "        ],\n",
    "    default=\"unknown\")\n",
    "df_cleaned = pd.get_dummies(df_cleaned,columns=[\"seat_str\"])\n",
    "df_cleaned = df_cleaned.drop([\"seat_count\"], axis=1)"
   ]
  },
  {
   "cell_type": "markdown",
   "metadata": {
    "papermill": {
     "duration": 0.047136,
     "end_time": "2021-01-04T04:32:55.496524",
     "exception": false,
     "start_time": "2021-01-04T04:32:55.449388",
     "status": "completed"
    },
    "tags": []
   },
   "source": [
    "# 8. Transmission"
   ]
  },
  {
   "cell_type": "code",
   "execution_count": 19,
   "metadata": {
    "execution": {
     "iopub.execute_input": "2021-01-04T04:32:55.813741Z",
     "iopub.status.busy": "2021-01-04T04:32:55.812837Z",
     "iopub.status.idle": "2021-01-04T04:32:57.100302Z",
     "shell.execute_reply": "2021-01-04T04:32:57.099618Z"
    },
    "papermill": {
     "duration": 1.557631,
     "end_time": "2021-01-04T04:32:57.100454",
     "exception": false,
     "start_time": "2021-01-04T04:32:55.542823",
     "status": "completed"
    },
    "tags": []
   },
   "outputs": [],
   "source": [
    "df_cleaned = df_cleaned[df_cleaned['transmission'].notna()]\n",
    "df_cleaned = pd.get_dummies(df_cleaned,columns=[\"transmission\"])"
   ]
  },
  {
   "cell_type": "code",
   "execution_count": 20,
   "metadata": {
    "execution": {
     "iopub.execute_input": "2021-01-04T04:32:57.208443Z",
     "iopub.status.busy": "2021-01-04T04:32:57.207534Z",
     "iopub.status.idle": "2021-01-04T04:32:57.854149Z",
     "shell.execute_reply": "2021-01-04T04:32:57.853478Z"
    },
    "papermill": {
     "duration": 0.70584,
     "end_time": "2021-01-04T04:32:57.854309",
     "exception": false,
     "start_time": "2021-01-04T04:32:57.148469",
     "status": "completed"
    },
    "tags": []
   },
   "outputs": [],
   "source": [
    "# drop features\n",
    "features_to_drop = [\"model\", \"door_count\", \"body_type\", \"color_slug\", \"stk_year\", \"avg_manufacture_year\", \"date_created\", \n",
    "                    \"date_last_seen\", \"avg_engine_displacement\",\"avg_engine_power\",\"avg_mileage\", \"mode_fuel_type\"]\n",
    "df_cleaned = df_cleaned.drop(features_to_drop, axis=\"columns\")"
   ]
  },
  {
   "cell_type": "code",
   "execution_count": 21,
   "metadata": {
    "execution": {
     "iopub.execute_input": "2021-01-04T04:32:58.160732Z",
     "iopub.status.busy": "2021-01-04T04:32:58.159024Z",
     "iopub.status.idle": "2021-01-04T04:32:58.227142Z",
     "shell.execute_reply": "2021-01-04T04:32:58.226267Z"
    },
    "papermill": {
     "duration": 0.324965,
     "end_time": "2021-01-04T04:32:58.227281",
     "exception": false,
     "start_time": "2021-01-04T04:32:57.902316",
     "status": "completed"
    },
    "tags": []
   },
   "outputs": [
    {
     "data": {
      "text/plain": [
       "maker                  213268\n",
       "mileage                     0\n",
       "manufacture_year            0\n",
       "engine_displacement         0\n",
       "engine_power                0\n",
       "price_eur                   0\n",
       "fuel_type_diesel            0\n",
       "fuel_type_gasoline          0\n",
       "ad_duration                 0\n",
       "seat_str_large              0\n",
       "seat_str_medium             0\n",
       "seat_str_small              0\n",
       "transmission_auto           0\n",
       "transmission_man            0\n",
       "dtype: int64"
      ]
     },
     "execution_count": 21,
     "metadata": {},
     "output_type": "execute_result"
    }
   ],
   "source": [
    "df_cleaned.isna().sum()"
   ]
  },
  {
   "cell_type": "code",
   "execution_count": 22,
   "metadata": {
    "execution": {
     "iopub.execute_input": "2021-01-04T04:32:58.334007Z",
     "iopub.status.busy": "2021-01-04T04:32:58.333185Z",
     "iopub.status.idle": "2021-01-04T04:33:01.811324Z",
     "shell.execute_reply": "2021-01-04T04:33:01.811941Z"
    },
    "papermill": {
     "duration": 3.533787,
     "end_time": "2021-01-04T04:33:01.812126",
     "exception": false,
     "start_time": "2021-01-04T04:32:58.278339",
     "status": "completed"
    },
    "tags": []
   },
   "outputs": [
    {
     "data": {
      "text/plain": [
       "<matplotlib.axes._subplots.AxesSubplot at 0x7f626039c5d0>"
      ]
     },
     "execution_count": 22,
     "metadata": {},
     "output_type": "execute_result"
    },
    {
     "data": {
      "image/png": "[encoded data removed]",
      "text/plain": [
       "<Figure size 1080x720 with 2 Axes>"
      ]
     },
     "metadata": {
      "needs_background": "light"
     },
     "output_type": "display_data"
    }
   ],
   "source": [
    "import matplotlib.pyplot as plt\n",
    "import seaborn as sns\n",
    "corr = df_cleaned.corr()\n",
    "plt.subplots(figsize=(15,10))\n",
    "sns.heatmap(corr, xticklabels=corr.columns, yticklabels=corr.columns, annot=True, )"
   ]
  },
  {
   "cell_type": "markdown",
   "metadata": {
    "papermill": {
     "duration": 0.051126,
     "end_time": "2021-01-04T04:33:01.914777",
     "exception": false,
     "start_time": "2021-01-04T04:33:01.863651",
     "status": "completed"
    },
    "tags": []
   },
   "source": [
    "# Dealing with missing values in Categorical Features\n",
    "We have now only one categorical feature maker left whose missing value is to be filled.\n",
    "\n",
    "Different Methods for dealing missing values in categorical features\n",
    "\n",
    "* Delete the entire column maker.\n",
    "* Replace missing values with the most frequent values.\n",
    "* Delete rows with null values.\n",
    "* Predict the missing values with classifiers.\n",
    "* We will use the method \"Predicting missing values with RandomForestClassifier\""
   ]
  },
  {
   "cell_type": "markdown",
   "metadata": {
    "papermill": {
     "duration": 0.054584,
     "end_time": "2021-01-04T04:33:02.024695",
     "exception": false,
     "start_time": "2021-01-04T04:33:01.970111",
     "status": "completed"
    },
    "tags": []
   },
   "source": [
    "# 9. Maker"
   ]
  },
  {
   "cell_type": "code",
   "execution_count": 23,
   "metadata": {
    "execution": {
     "iopub.execute_input": "2021-01-04T04:33:02.333622Z",
     "iopub.status.busy": "2021-01-04T04:33:02.332481Z",
     "iopub.status.idle": "2021-01-04T04:33:02.665325Z",
     "shell.execute_reply": "2021-01-04T04:33:02.664612Z"
    },
    "papermill": {
     "duration": 0.587761,
     "end_time": "2021-01-04T04:33:02.665492",
     "exception": false,
     "start_time": "2021-01-04T04:33:02.077731",
     "status": "completed"
    },
    "tags": []
   },
   "outputs": [
    {
     "name": "stdout",
     "output_type": "stream",
     "text": [
      "Number of rows with maker not null: 1690366\n",
      "Number of rows with maker null: 213268\n"
     ]
    }
   ],
   "source": [
    "df_with_maker = df_cleaned[df_cleaned['maker'].notna()]\n",
    "print(\"Number of rows with maker not null:\", df_with_maker.shape[0])\n",
    "\n",
    "df_no_maker = df_cleaned[df_cleaned['maker'].isna()]\n",
    "print(\"Number of rows with maker null:\", df_no_maker.shape[0])"
   ]
  },
  {
   "cell_type": "markdown",
   "metadata": {
    "papermill": {
     "duration": 0.055267,
     "end_time": "2021-01-04T04:33:02.778381",
     "exception": false,
     "start_time": "2021-01-04T04:33:02.723114",
     "status": "completed"
    },
    "tags": []
   },
   "source": [
    "Lots of missing value, inplace of filling missing with mode or deleting that row, or deleting entire column, we will predict the missing values. Thats might save lots of information."
   ]
  },
  {
   "cell_type": "markdown",
   "metadata": {
    "papermill": {
     "duration": 0.054229,
     "end_time": "2021-01-04T04:33:02.886454",
     "exception": false,
     "start_time": "2021-01-04T04:33:02.832225",
     "status": "completed"
    },
    "tags": []
   },
   "source": [
    "# Filling missing value by predicting them with one of the classifier.\n",
    "RandomForestClassifier in our case."
   ]
  },
  {
   "cell_type": "code",
   "execution_count": 24,
   "metadata": {
    "execution": {
     "iopub.execute_input": "2021-01-04T04:33:03.004769Z",
     "iopub.status.busy": "2021-01-04T04:33:03.003936Z",
     "iopub.status.idle": "2021-01-04T04:35:55.576672Z",
     "shell.execute_reply": "2021-01-04T04:35:55.577310Z"
    },
    "papermill": {
     "duration": 172.63811,
     "end_time": "2021-01-04T04:35:55.577513",
     "exception": false,
     "start_time": "2021-01-04T04:33:02.939403",
     "status": "completed"
    },
    "tags": []
   },
   "outputs": [
    {
     "data": {
      "text/plain": [
       "RandomForestClassifier(max_depth=25, max_features=0.6, min_samples_leaf=3,\n",
       "                       n_estimators=45, n_jobs=-1, random_state=False)"
      ]
     },
     "execution_count": 24,
     "metadata": {},
     "output_type": "execute_result"
    }
   ],
   "source": [
    "from sklearn.ensemble import RandomForestClassifier\n",
    "from sklearn.metrics import log_loss\n",
    "from sklearn.metrics import accuracy_score\n",
    "from sklearn.model_selection import train_test_split\n",
    "\n",
    "X = df_with_maker.drop(\"maker\", axis=1).values\n",
    "Y = df_with_maker[\"maker\"].values\n",
    "\n",
    "X_train, X_test, Y_train, Y_test = train_test_split(X, Y, test_size=0.1, random_state=0)\n",
    "\n",
    "Rand_forest = RandomForestClassifier(n_estimators=45, max_depth=25, random_state=False, \n",
    "                                max_features=0.6, min_samples_leaf=3, n_jobs=-1)\n",
    "\n",
    "Rand_forest.fit(X_train, Y_train)"
   ]
  },
  {
   "cell_type": "code",
   "execution_count": 25,
   "metadata": {
    "execution": {
     "iopub.execute_input": "2021-01-04T04:35:55.692404Z",
     "iopub.status.busy": "2021-01-04T04:35:55.691516Z",
     "iopub.status.idle": "2021-01-04T04:36:28.970171Z",
     "shell.execute_reply": "2021-01-04T04:36:28.969351Z"
    },
    "papermill": {
     "duration": 33.339138,
     "end_time": "2021-01-04T04:36:28.970301",
     "exception": false,
     "start_time": "2021-01-04T04:35:55.631163",
     "status": "completed"
    },
    "tags": []
   },
   "outputs": [
    {
     "name": "stdout",
     "output_type": "stream",
     "text": [
      "ACCURACY: TRAIN=0.9420 TEST=0.8955\n",
      "LOG LOSS: 0.3388511286173819\n"
     ]
    }
   ],
   "source": [
    "\n",
    "y_pred_train = Rand_forest.predict(X_train)\n",
    "y_pred = Rand_forest.predict(X_test)\n",
    "\n",
    "y_pred_proba = Rand_forest.predict_proba(X_test)\n",
    "\n",
    "accuracy_train = accuracy_score(Y_train, y_pred_train)\n",
    "accuracy_test = accuracy_score(Y_test, y_pred)\n",
    "\n",
    "print(\"ACCURACY: TRAIN=%.4f TEST=%.4f\" % (accuracy_train,accuracy_test))\n",
    "print(\"LOG LOSS: \"+str(log_loss(Y_test, y_pred_proba)))\n"
   ]
  },
  {
   "cell_type": "code",
   "execution_count": 26,
   "metadata": {
    "execution": {
     "iopub.execute_input": "2021-01-04T04:36:29.089874Z",
     "iopub.status.busy": "2021-01-04T04:36:29.088764Z",
     "iopub.status.idle": "2021-01-04T04:36:29.432845Z",
     "shell.execute_reply": "2021-01-04T04:36:29.432217Z"
    },
    "papermill": {
     "duration": 0.408145,
     "end_time": "2021-01-04T04:36:29.433000",
     "exception": false,
     "start_time": "2021-01-04T04:36:29.024855",
     "status": "completed"
    },
    "tags": []
   },
   "outputs": [
    {
     "data": {
      "image/png": "[encoded data removed]",
      "text/plain": [
       "<Figure size 432x288 with 1 Axes>"
      ]
     },
     "metadata": {
      "needs_background": "light"
     },
     "output_type": "display_data"
    }
   ],
   "source": [
    "importances = Rand_forest.feature_importances_\n",
    "indices = list(np.argsort(importances))[::-1]\n",
    "\n",
    "plt.title(\"Feature importances\")\n",
    "plt.barh(range(len(indices)), importances[indices], color=\"g\", align=\"center\")\n",
    "plt.yticks(range(len(indices)), df_with_maker.iloc[:, 1:].columns[indices])\n",
    "# plt.ylim([-1, len(indices)])\n",
    "plt.gca().invert_yaxis()"
   ]
  },
  {
   "cell_type": "code",
   "execution_count": 27,
   "metadata": {
    "execution": {
     "iopub.execute_input": "2021-01-04T04:36:29.556127Z",
     "iopub.status.busy": "2021-01-04T04:36:29.555329Z",
     "iopub.status.idle": "2021-01-04T04:36:31.927308Z",
     "shell.execute_reply": "2021-01-04T04:36:31.928252Z"
    },
    "papermill": {
     "duration": 2.438175,
     "end_time": "2021-01-04T04:36:31.928446",
     "exception": false,
     "start_time": "2021-01-04T04:36:29.490271",
     "status": "completed"
    },
    "tags": []
   },
   "outputs": [],
   "source": [
    "df_no_maker = df_no_maker.drop('maker', axis=1)\n",
    "prediction = Rand_forest.predict(df_no_maker)\n",
    "\n",
    "df_no_maker.insert(0, 'maker', prediction)"
   ]
  },
  {
   "cell_type": "code",
   "execution_count": 28,
   "metadata": {
    "execution": {
     "iopub.execute_input": "2021-01-04T04:36:32.056481Z",
     "iopub.status.busy": "2021-01-04T04:36:32.055641Z",
     "iopub.status.idle": "2021-01-04T04:36:32.137749Z",
     "shell.execute_reply": "2021-01-04T04:36:32.136711Z"
    },
    "papermill": {
     "duration": 0.149869,
     "end_time": "2021-01-04T04:36:32.137927",
     "exception": false,
     "start_time": "2021-01-04T04:36:31.988058",
     "status": "completed"
    },
    "tags": []
   },
   "outputs": [
    {
     "name": "stdout",
     "output_type": "stream",
     "text": [
      "1903634\n"
     ]
    }
   ],
   "source": [
    "frames = [df_with_maker, df_no_maker]\n",
    "df_final = pd.concat(frames)\n",
    "print(df_final.shape[0])"
   ]
  },
  {
   "cell_type": "code",
   "execution_count": 29,
   "metadata": {
    "execution": {
     "iopub.execute_input": "2021-01-04T04:36:32.269172Z",
     "iopub.status.busy": "2021-01-04T04:36:32.268201Z",
     "iopub.status.idle": "2021-01-04T04:36:32.298157Z",
     "shell.execute_reply": "2021-01-04T04:36:32.297290Z"
    },
    "papermill": {
     "duration": 0.099271,
     "end_time": "2021-01-04T04:36:32.298292",
     "exception": false,
     "start_time": "2021-01-04T04:36:32.199021",
     "status": "completed"
    },
    "tags": []
   },
   "outputs": [
    {
     "data": {
      "text/html": [
       "<div>\n",
       "<style scoped>\n",
       "    .dataframe tbody tr th:only-of-type {\n",
       "        vertical-align: middle;\n",
       "    }\n",
       "\n",
       "    .dataframe tbody tr th {\n",
       "        vertical-align: top;\n",
       "    }\n",
       "\n",
       "    .dataframe thead th {\n",
       "        text-align: right;\n",
       "    }\n",
       "</style>\n",
       "<table border=\"1\" class=\"dataframe\">\n",
       "  <thead>\n",
       "    <tr style=\"text-align: right;\">\n",
       "      <th></th>\n",
       "      <th>maker</th>\n",
       "      <th>mileage</th>\n",
       "      <th>manufacture_year</th>\n",
       "      <th>engine_displacement</th>\n",
       "      <th>engine_power</th>\n",
       "      <th>price_eur</th>\n",
       "      <th>fuel_type_diesel</th>\n",
       "      <th>fuel_type_gasoline</th>\n",
       "      <th>ad_duration</th>\n",
       "      <th>seat_str_large</th>\n",
       "      <th>seat_str_medium</th>\n",
       "      <th>seat_str_small</th>\n",
       "      <th>transmission_auto</th>\n",
       "      <th>transmission_man</th>\n",
       "    </tr>\n",
       "  </thead>\n",
       "  <tbody>\n",
       "    <tr>\n",
       "      <th>0</th>\n",
       "      <td>ford</td>\n",
       "      <td>151000.0</td>\n",
       "      <td>2011.0</td>\n",
       "      <td>2000.0</td>\n",
       "      <td>103.0</td>\n",
       "      <td>10584.75</td>\n",
       "      <td>1</td>\n",
       "      <td>0</td>\n",
       "      <td>74</td>\n",
       "      <td>1</td>\n",
       "      <td>0</td>\n",
       "      <td>0</td>\n",
       "      <td>0</td>\n",
       "      <td>1</td>\n",
       "    </tr>\n",
       "    <tr>\n",
       "      <th>1</th>\n",
       "      <td>skoda</td>\n",
       "      <td>143476.0</td>\n",
       "      <td>2012.0</td>\n",
       "      <td>2000.0</td>\n",
       "      <td>81.0</td>\n",
       "      <td>8882.31</td>\n",
       "      <td>1</td>\n",
       "      <td>0</td>\n",
       "      <td>74</td>\n",
       "      <td>0</td>\n",
       "      <td>1</td>\n",
       "      <td>0</td>\n",
       "      <td>0</td>\n",
       "      <td>1</td>\n",
       "    </tr>\n",
       "    <tr>\n",
       "      <th>2</th>\n",
       "      <td>bmw</td>\n",
       "      <td>97676.0</td>\n",
       "      <td>2010.0</td>\n",
       "      <td>1995.0</td>\n",
       "      <td>85.0</td>\n",
       "      <td>12065.06</td>\n",
       "      <td>1</td>\n",
       "      <td>0</td>\n",
       "      <td>74</td>\n",
       "      <td>0</td>\n",
       "      <td>1</td>\n",
       "      <td>0</td>\n",
       "      <td>0</td>\n",
       "      <td>1</td>\n",
       "    </tr>\n",
       "    <tr>\n",
       "      <th>3</th>\n",
       "      <td>skoda</td>\n",
       "      <td>111970.0</td>\n",
       "      <td>2004.0</td>\n",
       "      <td>1200.0</td>\n",
       "      <td>63.0</td>\n",
       "      <td>2960.77</td>\n",
       "      <td>0</td>\n",
       "      <td>1</td>\n",
       "      <td>74</td>\n",
       "      <td>0</td>\n",
       "      <td>1</td>\n",
       "      <td>0</td>\n",
       "      <td>0</td>\n",
       "      <td>1</td>\n",
       "    </tr>\n",
       "    <tr>\n",
       "      <th>4</th>\n",
       "      <td>skoda</td>\n",
       "      <td>128886.0</td>\n",
       "      <td>2004.0</td>\n",
       "      <td>1200.0</td>\n",
       "      <td>63.0</td>\n",
       "      <td>2738.71</td>\n",
       "      <td>0</td>\n",
       "      <td>1</td>\n",
       "      <td>74</td>\n",
       "      <td>0</td>\n",
       "      <td>1</td>\n",
       "      <td>0</td>\n",
       "      <td>0</td>\n",
       "      <td>1</td>\n",
       "    </tr>\n",
       "    <tr>\n",
       "      <th>...</th>\n",
       "      <td>...</td>\n",
       "      <td>...</td>\n",
       "      <td>...</td>\n",
       "      <td>...</td>\n",
       "      <td>...</td>\n",
       "      <td>...</td>\n",
       "      <td>...</td>\n",
       "      <td>...</td>\n",
       "      <td>...</td>\n",
       "      <td>...</td>\n",
       "      <td>...</td>\n",
       "      <td>...</td>\n",
       "      <td>...</td>\n",
       "      <td>...</td>\n",
       "    </tr>\n",
       "    <tr>\n",
       "      <th>1096046</th>\n",
       "      <td>citroen</td>\n",
       "      <td>133000.0</td>\n",
       "      <td>2007.0</td>\n",
       "      <td>1360.0</td>\n",
       "      <td>54.0</td>\n",
       "      <td>2900.00</td>\n",
       "      <td>0</td>\n",
       "      <td>1</td>\n",
       "      <td>158</td>\n",
       "      <td>0</td>\n",
       "      <td>1</td>\n",
       "      <td>0</td>\n",
       "      <td>0</td>\n",
       "      <td>1</td>\n",
       "    </tr>\n",
       "    <tr>\n",
       "      <th>1096047</th>\n",
       "      <td>volkswagen</td>\n",
       "      <td>124250.0</td>\n",
       "      <td>2007.0</td>\n",
       "      <td>2460.0</td>\n",
       "      <td>96.0</td>\n",
       "      <td>12850.00</td>\n",
       "      <td>1</td>\n",
       "      <td>0</td>\n",
       "      <td>158</td>\n",
       "      <td>1</td>\n",
       "      <td>0</td>\n",
       "      <td>0</td>\n",
       "      <td>0</td>\n",
       "      <td>1</td>\n",
       "    </tr>\n",
       "    <tr>\n",
       "      <th>1096051</th>\n",
       "      <td>skoda</td>\n",
       "      <td>10.0</td>\n",
       "      <td>2016.0</td>\n",
       "      <td>1197.0</td>\n",
       "      <td>66.0</td>\n",
       "      <td>17395.00</td>\n",
       "      <td>0</td>\n",
       "      <td>1</td>\n",
       "      <td>15</td>\n",
       "      <td>0</td>\n",
       "      <td>1</td>\n",
       "      <td>0</td>\n",
       "      <td>0</td>\n",
       "      <td>1</td>\n",
       "    </tr>\n",
       "    <tr>\n",
       "      <th>1096054</th>\n",
       "      <td>skoda</td>\n",
       "      <td>153139.0</td>\n",
       "      <td>2010.0</td>\n",
       "      <td>2000.0</td>\n",
       "      <td>103.0</td>\n",
       "      <td>8438.19</td>\n",
       "      <td>1</td>\n",
       "      <td>0</td>\n",
       "      <td>158</td>\n",
       "      <td>0</td>\n",
       "      <td>1</td>\n",
       "      <td>0</td>\n",
       "      <td>0</td>\n",
       "      <td>1</td>\n",
       "    </tr>\n",
       "    <tr>\n",
       "      <th>1096056</th>\n",
       "      <td>skoda</td>\n",
       "      <td>124500.0</td>\n",
       "      <td>2008.0</td>\n",
       "      <td>1595.0</td>\n",
       "      <td>75.0</td>\n",
       "      <td>6476.68</td>\n",
       "      <td>0</td>\n",
       "      <td>1</td>\n",
       "      <td>15</td>\n",
       "      <td>0</td>\n",
       "      <td>1</td>\n",
       "      <td>0</td>\n",
       "      <td>0</td>\n",
       "      <td>1</td>\n",
       "    </tr>\n",
       "  </tbody>\n",
       "</table>\n",
       "<p>1903634 rows × 14 columns</p>\n",
       "</div>"
      ],
      "text/plain": [
       "              maker   mileage  manufacture_year  engine_displacement  \\\n",
       "0              ford  151000.0            2011.0               2000.0   \n",
       "1             skoda  143476.0            2012.0               2000.0   \n",
       "2               bmw   97676.0            2010.0               1995.0   \n",
       "3             skoda  111970.0            2004.0               1200.0   \n",
       "4             skoda  128886.0            2004.0               1200.0   \n",
       "...             ...       ...               ...                  ...   \n",
       "1096046     citroen  133000.0            2007.0               1360.0   \n",
       "1096047  volkswagen  124250.0            2007.0               2460.0   \n",
       "1096051       skoda      10.0            2016.0               1197.0   \n",
       "1096054       skoda  153139.0            2010.0               2000.0   \n",
       "1096056       skoda  124500.0            2008.0               1595.0   \n",
       "\n",
       "         engine_power  price_eur  fuel_type_diesel  fuel_type_gasoline  \\\n",
       "0               103.0   10584.75                 1                   0   \n",
       "1                81.0    8882.31                 1                   0   \n",
       "2                85.0   12065.06                 1                   0   \n",
       "3                63.0    2960.77                 0                   1   \n",
       "4                63.0    2738.71                 0                   1   \n",
       "...               ...        ...               ...                 ...   \n",
       "1096046          54.0    2900.00                 0                   1   \n",
       "1096047          96.0   12850.00                 1                   0   \n",
       "1096051          66.0   17395.00                 0                   1   \n",
       "1096054         103.0    8438.19                 1                   0   \n",
       "1096056          75.0    6476.68                 0                   1   \n",
       "\n",
       "         ad_duration  seat_str_large  seat_str_medium  seat_str_small  \\\n",
       "0                 74               1                0               0   \n",
       "1                 74               0                1               0   \n",
       "2                 74               0                1               0   \n",
       "3                 74               0                1               0   \n",
       "4                 74               0                1               0   \n",
       "...              ...             ...              ...             ...   \n",
       "1096046          158               0                1               0   \n",
       "1096047          158               1                0               0   \n",
       "1096051           15               0                1               0   \n",
       "1096054          158               0                1               0   \n",
       "1096056           15               0                1               0   \n",
       "\n",
       "         transmission_auto  transmission_man  \n",
       "0                        0                 1  \n",
       "1                        0                 1  \n",
       "2                        0                 1  \n",
       "3                        0                 1  \n",
       "4                        0                 1  \n",
       "...                    ...               ...  \n",
       "1096046                  0                 1  \n",
       "1096047                  0                 1  \n",
       "1096051                  0                 1  \n",
       "1096054                  0                 1  \n",
       "1096056                  0                 1  \n",
       "\n",
       "[1903634 rows x 14 columns]"
      ]
     },
     "execution_count": 29,
     "metadata": {},
     "output_type": "execute_result"
    }
   ],
   "source": [
    "df_final"
   ]
  },
  {
   "cell_type": "code",
   "execution_count": 30,
   "metadata": {
    "execution": {
     "iopub.execute_input": "2021-01-04T04:36:32.430865Z",
     "iopub.status.busy": "2021-01-04T04:36:32.429919Z",
     "iopub.status.idle": "2021-01-04T04:36:32.433458Z",
     "shell.execute_reply": "2021-01-04T04:36:32.434065Z"
    },
    "papermill": {
     "duration": 0.077209,
     "end_time": "2021-01-04T04:36:32.434236",
     "exception": false,
     "start_time": "2021-01-04T04:36:32.357027",
     "status": "completed"
    },
    "tags": []
   },
   "outputs": [],
   "source": [
    "# helper function for removing outlier and ploting \n",
    "def remove_outliers(dataframe):\n",
    "    '''\n",
    "    return a dataframe without rows that are outliers in any column\n",
    "    '''\n",
    "    return dataframe\\\n",
    "    .loc[:, lambda df: df.std() > 0.04]\\\n",
    "    .loc[lambda df: (np.abs(stats.zscore(df)) < 3).all(axis=1)]\n",
    "\n",
    "def plot_regression(Y_test, Y_pred):\n",
    "    x = Y_test\n",
    "    y = Y_pred\n",
    "\n",
    "    plt.xlabel(\"True label\")\n",
    "    plt.ylabel(\"Predicted label\")\n",
    "    plt.plot(x, y, 'o')\n",
    "\n",
    "    m, b = np.polyfit(x, y, 1)\n",
    "\n",
    "    plt.plot(x, m*x + b)"
   ]
  },
  {
   "cell_type": "code",
   "execution_count": 31,
   "metadata": {
    "execution": {
     "iopub.execute_input": "2021-01-04T04:36:32.571469Z",
     "iopub.status.busy": "2021-01-04T04:36:32.569024Z",
     "iopub.status.idle": "2021-01-04T04:36:36.070661Z",
     "shell.execute_reply": "2021-01-04T04:36:36.071502Z"
    },
    "papermill": {
     "duration": 3.576728,
     "end_time": "2021-01-04T04:36:36.071691",
     "exception": false,
     "start_time": "2021-01-04T04:36:32.494963",
     "status": "completed"
    },
    "tags": []
   },
   "outputs": [
    {
     "name": "stdout",
     "output_type": "stream",
     "text": [
      "MSE: 0.09545860191150798\n",
      "R2 score: 0.876469623814969\n"
     ]
    }
   ],
   "source": [
    "from sklearn.linear_model import LinearRegression\n",
    "from sklearn.metrics import mean_squared_error, r2_score\n",
    "from scipy import stats\n",
    "df_final = pd.get_dummies(df_final,columns=[\"maker\"])\n",
    "df_final = remove_outliers(df_final)\n",
    "X = df_final.drop(\"price_eur\", axis=1).values\n",
    "Y = np.log1p(df_final[\"price_eur\"].values)\n",
    "\n",
    "X_train, X_test, Y_train, Y_test = train_test_split(X,Y, test_size=0.1, random_state=0)\n",
    "\n",
    "ll = LinearRegression()\n",
    "ll.fit(X_train, Y_train)\n",
    "Y_pred = ll.predict(X_test)\n",
    "# mse_list=[]\n",
    "# r2_score_list=[]\n",
    "# mse_list.append(mean_squared_error(Y_test, Y_pred))\n",
    "# r2_score_list.append(r2_score(Y_test, Y_pred))\n",
    "\n",
    "print(\"MSE: \"+str(mean_squared_error(Y_test, Y_pred)))\n",
    "print(\"R2 score: \"+str(r2_score(Y_test, Y_pred)))"
   ]
  },
  {
   "cell_type": "code",
   "execution_count": 32,
   "metadata": {
    "execution": {
     "iopub.execute_input": "2021-01-04T04:36:36.204469Z",
     "iopub.status.busy": "2021-01-04T04:36:36.203430Z",
     "iopub.status.idle": "2021-01-04T04:36:36.402330Z",
     "shell.execute_reply": "2021-01-04T04:36:36.401412Z"
    },
    "papermill": {
     "duration": 0.272685,
     "end_time": "2021-01-04T04:36:36.402488",
     "exception": false,
     "start_time": "2021-01-04T04:36:36.129803",
     "status": "completed"
    },
    "tags": []
   },
   "outputs": [
    {
     "data": {
      "image/png": "[encoded data removed]",
      "text/plain": [
       "<Figure size 432x288 with 1 Axes>"
      ]
     },
     "metadata": {
      "needs_background": "light"
     },
     "output_type": "display_data"
    }
   ],
   "source": [
    "plot_regression(Y_test, Y_pred)"
   ]
  }
 ],
 "metadata": {
  "kernelspec": {
   "display_name": "Python 3",
   "language": "python",
   "name": "python3"
  },
  "language_info": {
   "codemirror_mode": {
    "name": "ipython",
    "version": 3
   },
   "file_extension": ".py",
   "mimetype": "text/x-python",
   "name": "python",
   "nbconvert_exporter": "python",
   "pygments_lexer": "ipython3",
   "version": "3.7.6"
  },
  "papermill": {
   "duration": 323.028565,
   "end_time": "2021-01-04T04:36:36.872561",
   "environment_variables": {},
   "exception": null,
   "input_path": "__notebook__.ipynb",
   "output_path": "__notebook__.ipynb",
   "parameters": {},
   "start_time": "2021-01-04T04:31:13.843996",
   "version": "2.1.0"
  }
 },
 "nbformat": 4,
 "nbformat_minor": 4
}
